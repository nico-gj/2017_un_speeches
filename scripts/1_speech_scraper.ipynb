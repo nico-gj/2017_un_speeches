{
 "cells": [
  {
   "cell_type": "markdown",
   "metadata": {},
   "source": [
    "# UN Speeches – Scraper"
   ]
  },
  {
   "cell_type": "code",
   "execution_count": 1,
   "metadata": {},
   "outputs": [],
   "source": [
    "%matplotlib inline\n",
    "\n",
    "import pandas as pd\n",
    "import numpy as np\n",
    "from bs4 import BeautifulSoup\n",
    "import requests\n",
    "import urllib.request"
   ]
  },
  {
   "cell_type": "markdown",
   "metadata": {},
   "source": [
    "## Scrape list of all speakers, and links to their speeches:"
   ]
  },
  {
   "cell_type": "code",
   "execution_count": 2,
   "metadata": {},
   "outputs": [
    {
     "name": "stdout",
     "output_type": "stream",
     "text": [
      "200\n"
     ]
    }
   ],
   "source": [
    "base_url = requests.get(\"https://gadebate.un.org/en/sessions-archive/72\")\n",
    "print(base_url.status_code)\n",
    "soup = BeautifulSoup(base_url.content, 'html.parser')"
   ]
  },
  {
   "cell_type": "code",
   "execution_count": 3,
   "metadata": {},
   "outputs": [],
   "source": [
    "soup = soup.findAll(class_ = \"media-body\")"
   ]
  },
  {
   "cell_type": "code",
   "execution_count": 4,
   "metadata": {},
   "outputs": [],
   "source": [
    "columns = ['Country','Name', 'Title', 'link', 'speech']\n",
    "df = pd.DataFrame(index=np.arange(len(soup)), columns=columns)"
   ]
  },
  {
   "cell_type": "code",
   "execution_count": 5,
   "metadata": {},
   "outputs": [],
   "source": [
    "for i in range(0, len(soup)):\n",
    "    df['Country'][i] = soup[i].find(class_ = \"media-heading\").text\n",
    "    df['Name'][i] = soup[i].find(class_ = \"name\").text\n",
    "    df['Title'][i] = soup[i].find(class_ = \"title\").text\n",
    "    df['link'][i] = 'https://gadebate.un.org'+soup[i].find('a').get('href')"
   ]
  },
  {
   "cell_type": "code",
   "execution_count": 6,
   "metadata": {
    "scrolled": true
   },
   "outputs": [
    {
     "name": "stdout",
     "output_type": "stream",
     "text": [
      "Scraping: 199/199\n",
      "Done!\n"
     ]
    }
   ],
   "source": [
    "for i in range(0, len(soup)):\n",
    "    print(\"Scraping: {}/{}\".format(i+1, len(soup)), end = '\\r')\n",
    "    temp_url = requests.get(df['link'][i])\n",
    "    temp_soup = BeautifulSoup(temp_url.content, 'html.parser')\n",
    "    temp_soup = temp_soup.find(class_ = \"statement-documents-list\")\n",
    "    temp_soup = temp_soup.findAll('a')\n",
    "    for j in range(0, len(temp_soup)):\n",
    "        if temp_soup[j].text == \"English\":\n",
    "            df['speech'][i] = temp_soup[j].get('href')\n",
    "            break\n",
    "print(\"\\nDone!\")"
   ]
  },
  {
   "cell_type": "code",
   "execution_count": 7,
   "metadata": {
    "scrolled": false
   },
   "outputs": [
    {
     "data": {
      "text/html": [
       "<div>\n",
       "<style scoped>\n",
       "    .dataframe tbody tr th:only-of-type {\n",
       "        vertical-align: middle;\n",
       "    }\n",
       "\n",
       "    .dataframe tbody tr th {\n",
       "        vertical-align: top;\n",
       "    }\n",
       "\n",
       "    .dataframe thead th {\n",
       "        text-align: right;\n",
       "    }\n",
       "</style>\n",
       "<table border=\"1\" class=\"dataframe\">\n",
       "  <thead>\n",
       "    <tr style=\"text-align: right;\">\n",
       "      <th></th>\n",
       "      <th>Country</th>\n",
       "      <th>Name</th>\n",
       "      <th>Title</th>\n",
       "      <th>link</th>\n",
       "      <th>speech</th>\n",
       "    </tr>\n",
       "  </thead>\n",
       "  <tbody>\n",
       "    <tr>\n",
       "      <th>0</th>\n",
       "      <td>Secretary-General of the United Nations</td>\n",
       "      <td>H.E. Mr. António Guterres</td>\n",
       "      <td>Secretary-General</td>\n",
       "      <td>https://gadebate.un.org/en/72/secretary-genera...</td>\n",
       "      <td>https://gadebate.un.org/sites/default/files/ga...</td>\n",
       "    </tr>\n",
       "    <tr>\n",
       "      <th>1</th>\n",
       "      <td>President of the General Assembly (opening)</td>\n",
       "      <td>H.E. Mr. Miroslav Lajčák</td>\n",
       "      <td>President of the 72nd Session of the General A...</td>\n",
       "      <td>https://gadebate.un.org/en/72/president-genera...</td>\n",
       "      <td>https://gadebate.un.org/sites/default/files/ga...</td>\n",
       "    </tr>\n",
       "    <tr>\n",
       "      <th>2</th>\n",
       "      <td>Brazil</td>\n",
       "      <td>H.E. Mr. Michel Temer</td>\n",
       "      <td>President</td>\n",
       "      <td>https://gadebate.un.org/en/72/brazil</td>\n",
       "      <td>https://gadebate.un.org/sites/default/files/ga...</td>\n",
       "    </tr>\n",
       "    <tr>\n",
       "      <th>3</th>\n",
       "      <td>United States of America</td>\n",
       "      <td>H.E. Mr. Donald J. Trump</td>\n",
       "      <td>President</td>\n",
       "      <td>https://gadebate.un.org/en/72/united-states-am...</td>\n",
       "      <td>https://gadebate.un.org/sites/default/files/ga...</td>\n",
       "    </tr>\n",
       "    <tr>\n",
       "      <th>4</th>\n",
       "      <td>Guinea</td>\n",
       "      <td>H.E. Mr. Alpha Condé</td>\n",
       "      <td>President</td>\n",
       "      <td>https://gadebate.un.org/en/72/guinea</td>\n",
       "      <td>NaN</td>\n",
       "    </tr>\n",
       "  </tbody>\n",
       "</table>\n",
       "</div>"
      ],
      "text/plain": [
       "                                       Country                       Name  \\\n",
       "0      Secretary-General of the United Nations  H.E. Mr. António Guterres   \n",
       "1  President of the General Assembly (opening)   H.E. Mr. Miroslav Lajčák   \n",
       "2                                       Brazil      H.E. Mr. Michel Temer   \n",
       "3                     United States of America   H.E. Mr. Donald J. Trump   \n",
       "4                                       Guinea       H.E. Mr. Alpha Condé   \n",
       "\n",
       "                                               Title  \\\n",
       "0                                  Secretary-General   \n",
       "1  President of the 72nd Session of the General A...   \n",
       "2                                          President   \n",
       "3                                          President   \n",
       "4                                          President   \n",
       "\n",
       "                                                link  \\\n",
       "0  https://gadebate.un.org/en/72/secretary-genera...   \n",
       "1  https://gadebate.un.org/en/72/president-genera...   \n",
       "2               https://gadebate.un.org/en/72/brazil   \n",
       "3  https://gadebate.un.org/en/72/united-states-am...   \n",
       "4               https://gadebate.un.org/en/72/guinea   \n",
       "\n",
       "                                              speech  \n",
       "0  https://gadebate.un.org/sites/default/files/ga...  \n",
       "1  https://gadebate.un.org/sites/default/files/ga...  \n",
       "2  https://gadebate.un.org/sites/default/files/ga...  \n",
       "3  https://gadebate.un.org/sites/default/files/ga...  \n",
       "4                                                NaN  "
      ]
     },
     "execution_count": 7,
     "metadata": {},
     "output_type": "execute_result"
    }
   ],
   "source": [
    "df.head()"
   ]
  },
  {
   "cell_type": "markdown",
   "metadata": {},
   "source": [
    "## Download PDF versions of speeches:"
   ]
  },
  {
   "cell_type": "code",
   "execution_count": 8,
   "metadata": {},
   "outputs": [
    {
     "name": "stdout",
     "output_type": "stream",
     "text": [
      "Downloading PDF versions: 199/199\n",
      "Done!\n"
     ]
    }
   ],
   "source": [
    "for i in range(0, len(soup)):\n",
    "    print(\"Downloading PDF versions: {}/{}\".format(i+1, len(soup)), end = '\\r')\n",
    "    if pd.isnull(df['speech'][i])==False:\n",
    "        url = df['speech'][i]\n",
    "        urllib.request.urlretrieve(url, '../data/raw_data/{}.pdf'.format(df['Country'][i]))\n",
    "print(\"\\nDone!\")"
   ]
  },
  {
   "cell_type": "markdown",
   "metadata": {
    "collapsed": true
   },
   "source": [
    "## Converting to .txt"
   ]
  },
  {
   "cell_type": "markdown",
   "metadata": {},
   "source": [
    "Conversion to .txt is done using pdftotxt from the xpdf suite."
   ]
  }
 ],
 "metadata": {
  "kernelspec": {
   "display_name": "Python 3",
   "language": "python",
   "name": "python3"
  },
  "language_info": {
   "codemirror_mode": {
    "name": "ipython",
    "version": 3
   },
   "file_extension": ".py",
   "mimetype": "text/x-python",
   "name": "python",
   "nbconvert_exporter": "python",
   "pygments_lexer": "ipython3",
   "version": "3.6.2"
  },
  "toc": {
   "nav_menu": {},
   "number_sections": false,
   "sideBar": true,
   "skip_h1_title": false,
   "title_cell": "Table of Contents",
   "title_sidebar": "Contents",
   "toc_cell": false,
   "toc_position": {},
   "toc_section_display": true,
   "toc_window_display": true
  }
 },
 "nbformat": 4,
 "nbformat_minor": 2
}
