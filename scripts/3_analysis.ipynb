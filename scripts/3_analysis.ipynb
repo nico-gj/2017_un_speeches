{
 "cells": [
  {
   "cell_type": "markdown",
   "metadata": {},
   "source": [
    "# Data Cleaning"
   ]
  },
  {
   "cell_type": "markdown",
   "metadata": {},
   "source": [
    "## Python Setup"
   ]
  },
  {
   "cell_type": "code",
   "execution_count": 1,
   "metadata": {},
   "outputs": [],
   "source": [
    "# %run doc2vec_launcher\n",
    "# import doc2vec_launcher\n",
    "# import collections\n",
    "import matplotlib\n",
    "%matplotlib inline\n",
    "import matplotlib.pyplot as plt\n",
    "import seaborn as sns; sns.set()\n",
    "\n",
    "import pandas as pd\n",
    "import numpy as np\n",
    "import math\n",
    "import re\n",
    "from collections import OrderedDict\n",
    "import random\n",
    "\n",
    "import nltk\n",
    "from nltk.stem.wordnet import WordNetLemmatizer\n",
    "from nltk.corpus import stopwords\n",
    "from sklearn.decomposition import LatentDirichletAllocation\n",
    "from sklearn.feature_extraction.text import CountVectorizer, TfidfTransformer"
   ]
  },
  {
   "cell_type": "code",
   "execution_count": 2,
   "metadata": {},
   "outputs": [],
   "source": [
    "# nltk.download('stopwords')"
   ]
  },
  {
   "cell_type": "markdown",
   "metadata": {},
   "source": [
    "## Data Read-In and Corpus Creation"
   ]
  },
  {
   "cell_type": "code",
   "execution_count": 3,
   "metadata": {},
   "outputs": [],
   "source": [
    "un_speeches = pd.read_csv('../data/un_speeches.csv')"
   ]
  },
  {
   "cell_type": "code",
   "execution_count": 4,
   "metadata": {},
   "outputs": [],
   "source": [
    "countries = list(un_speeches['country'].values)"
   ]
  },
  {
   "cell_type": "code",
   "execution_count": 5,
   "metadata": {},
   "outputs": [
    {
     "data": {
      "text/html": [
       "<div>\n",
       "<style scoped>\n",
       "    .dataframe tbody tr th:only-of-type {\n",
       "        vertical-align: middle;\n",
       "    }\n",
       "\n",
       "    .dataframe tbody tr th {\n",
       "        vertical-align: top;\n",
       "    }\n",
       "\n",
       "    .dataframe thead th {\n",
       "        text-align: right;\n",
       "    }\n",
       "</style>\n",
       "<table border=\"1\" class=\"dataframe\">\n",
       "  <thead>\n",
       "    <tr style=\"text-align: right;\">\n",
       "      <th></th>\n",
       "      <th>country</th>\n",
       "      <th>speech</th>\n",
       "    </tr>\n",
       "  </thead>\n",
       "  <tbody>\n",
       "    <tr>\n",
       "      <th>0</th>\n",
       "      <td>Afghanistan</td>\n",
       "      <td>Mr. President, Distinguished Heads of State an...</td>\n",
       "    </tr>\n",
       "    <tr>\n",
       "      <th>1</th>\n",
       "      <td>Albania</td>\n",
       "      <td>Mr. President, Ladies and Gentlemen,\\nHow many...</td>\n",
       "    </tr>\n",
       "    <tr>\n",
       "      <th>2</th>\n",
       "      <td>Angola</td>\n",
       "      <td>Statement by the RepuNic of Angola 72n Session...</td>\n",
       "    </tr>\n",
       "    <tr>\n",
       "      <th>3</th>\n",
       "      <td>Antigua_and_Barbuda</td>\n",
       "      <td>Mr President, Mr Secretary-General, Distinguis...</td>\n",
       "    </tr>\n",
       "    <tr>\n",
       "      <th>4</th>\n",
       "      <td>Armenia</td>\n",
       "      <td>Distinguished President of the General Assembl...</td>\n",
       "    </tr>\n",
       "  </tbody>\n",
       "</table>\n",
       "</div>"
      ],
      "text/plain": [
       "               country                                             speech\n",
       "0          Afghanistan  Mr. President, Distinguished Heads of State an...\n",
       "1              Albania  Mr. President, Ladies and Gentlemen,\\nHow many...\n",
       "2               Angola  Statement by the RepuNic of Angola 72n Session...\n",
       "3  Antigua_and_Barbuda  Mr President, Mr Secretary-General, Distinguis...\n",
       "4              Armenia  Distinguished President of the General Assembl..."
      ]
     },
     "execution_count": 5,
     "metadata": {},
     "output_type": "execute_result"
    }
   ],
   "source": [
    "un_speeches.head()"
   ]
  },
  {
   "cell_type": "code",
   "execution_count": 6,
   "metadata": {},
   "outputs": [
    {
     "data": {
      "text/plain": [
       "(138, 2)"
      ]
     },
     "execution_count": 6,
     "metadata": {},
     "output_type": "execute_result"
    }
   ],
   "source": [
    "un_speeches.shape"
   ]
  },
  {
   "cell_type": "markdown",
   "metadata": {},
   "source": [
    "## Text Cleaning and Processing"
   ]
  },
  {
   "cell_type": "code",
   "execution_count": 7,
   "metadata": {},
   "outputs": [],
   "source": [
    "stemmer = nltk.stem.SnowballStemmer('english')"
   ]
  },
  {
   "cell_type": "code",
   "execution_count": 8,
   "metadata": {},
   "outputs": [],
   "source": [
    "stop_words = stopwords.words('english')\n",
    "stop_words += ['nation', 'mr', 'presid', 'becaus', 'also', 'u', 'unit', 'intern', 'un', 'peopl']\n",
    "stop_words += ['na', 'general', 'state', 'world', 'countri', 'peac', 'develop', 'must', 'h', 'e', 'us']\n",
    "stop_words += ['would']"
   ]
  },
  {
   "cell_type": "code",
   "execution_count": 9,
   "metadata": {},
   "outputs": [],
   "source": [
    "def create_bag_of_words(corpus, ngram_range = (1, 1)\n",
    "                        , stop_words = stop_words, stemmer = stemmer\n",
    "                        , min_df = 1, max_df = 1.0):\n",
    "\n",
    "    # Clean corpus\n",
    "    corpus = np.array([re.sub(r'\\W+|\\d+', ' ', text).lower() for text in corpus])\n",
    "    corpus = np.array([re.sub('_+', ' ', text) for text in corpus])\n",
    "    \n",
    "    tokenize = lambda x: [stemmer.stem(i) for i in x.split()]\n",
    "    vectorizer = CountVectorizer(analyzer=\"word\" #unit of features are single words rather then phrases of words \n",
    "                                 , tokenizer=tokenize\n",
    "                                 , ngram_range=ngram_range\n",
    "                                 , stop_words = stop_words\n",
    "                                 , strip_accents='unicode'\n",
    "                                 , min_df = min_df\n",
    "                                 , max_df = max_df)\n",
    "    \n",
    "    bag_of_words = vectorizer.fit_transform(corpus) #transform our corpus is a bag of words \n",
    "    features = vectorizer.get_feature_names()\n",
    "    \n",
    "    return bag_of_words, features"
   ]
  },
  {
   "cell_type": "code",
   "execution_count": 10,
   "metadata": {},
   "outputs": [],
   "source": [
    "def get_word_counts(bag_of_words, feature_names):\n",
    "    \n",
    "    np_bag_of_words = bag_of_words.toarray() # convert bag of words to array\n",
    "    word_count = np.sum(np_bag_of_words,axis=0) # calculate word count\n",
    "    np_word_count = np.asarray(word_count).ravel()  # convert to flattened array.\n",
    "    \n",
    "    # create dict of words mapped to count of occurrences of each word.\n",
    "    dict_word_counts = dict( zip(feature_names, np_word_count) )\n",
    "    \n",
    "    # Create ordered dictionary\n",
    "    orddict_word_counts = OrderedDict( sorted(dict_word_counts.items(), key=lambda x: x[1], reverse=True), )\n",
    "    \n",
    "    return orddict_word_counts"
   ]
  },
  {
   "cell_type": "markdown",
   "metadata": {},
   "source": [
    "## Summary Statistics"
   ]
  },
  {
   "cell_type": "code",
   "execution_count": 11,
   "metadata": {},
   "outputs": [],
   "source": [
    "corpus = un_speeches['speech'].values"
   ]
  },
  {
   "cell_type": "code",
   "execution_count": 12,
   "metadata": {},
   "outputs": [],
   "source": [
    "bag_of_words, features = create_bag_of_words(corpus)\n",
    "word_count = get_word_counts(bag_of_words, features)"
   ]
  },
  {
   "cell_type": "code",
   "execution_count": 13,
   "metadata": {},
   "outputs": [
    {
     "data": {
      "text/plain": [
       "secur      967\n",
       "global     792\n",
       "human      764\n",
       "support    707\n",
       "sustain    707\n",
       "right      697\n",
       "year       693\n",
       "govern     570\n",
       "region     562\n",
       "need       558\n",
       "dtype: int64"
      ]
     },
     "execution_count": 13,
     "metadata": {},
     "output_type": "execute_result"
    }
   ],
   "source": [
    "# Top words overall\n",
    "pd.Series(word_count).head(10)"
   ]
  },
  {
   "cell_type": "markdown",
   "metadata": {},
   "source": [
    "## Comparison Example of USA and France:"
   ]
  },
  {
   "cell_type": "code",
   "execution_count": 14,
   "metadata": {},
   "outputs": [],
   "source": [
    "# Use the correct spelling of state in data\n",
    "country1 = \"United_States_of_America\"\n",
    "country2 = \"France\""
   ]
  },
  {
   "cell_type": "code",
   "execution_count": 15,
   "metadata": {},
   "outputs": [],
   "source": [
    "un_speeches_subset = un_speeches[un_speeches['country'].isin([country1, country2])].reset_index()\n",
    "corpus_subset = un_speeches_subset['speech'].values\n",
    "country1 = un_speeches_subset['country'][0]\n",
    "country2 = un_speeches_subset['country'][1]"
   ]
  },
  {
   "cell_type": "code",
   "execution_count": 16,
   "metadata": {},
   "outputs": [],
   "source": [
    "bag_of_words, features = create_bag_of_words(corpus_subset)\n",
    "d = {'word' : np.asarray(features)\n",
    "     , 'country1': bag_of_words.toarray()[0]\n",
    "     , 'country2': bag_of_words.toarray()[1]}\n",
    "df = pd.DataFrame(data = d)"
   ]
  },
  {
   "cell_type": "code",
   "execution_count": 17,
   "metadata": {},
   "outputs": [
    {
     "data": {
      "text/plain": [
       "Text(0,0.5,'Word Frequency United_States_of_America')"
      ]
     },
     "execution_count": 17,
     "metadata": {},
     "output_type": "execute_result"
    },
    {
     "data": {
      "image/png": "[encoded data removed]",
      "text/plain": [
       "<matplotlib.figure.Figure at 0x10d82b278>"
      ]
     },
     "metadata": {},
     "output_type": "display_data"
    }
   ],
   "source": [
    "x_plot = df['country1']\n",
    "y_plot = df['country2']\n",
    "labels_plot = df['word']\n",
    "\n",
    "max_count = max(max(x_plot), max(y_plot))\n",
    "min_max = min(max(x_plot), max(y_plot))\n",
    "\n",
    "fig, ax = plt.subplots(1, 1, figsize = (13,13))\n",
    "plt.scatter(x_plot, y_plot, color='blue')\n",
    "plt.plot([0, min_max], [0, min_max], '-', color = 'red')\n",
    "\n",
    "for i, j, k in zip(x_plot, y_plot, labels_plot):\n",
    "    ax.annotate('%s' %k, xy = (i,j), fontsize = 13, color = 'black');\n",
    "\n",
    "ax.set_title('Word Frequency – {} vs. {}'.format(country1, country2))\n",
    "plt.xlabel('Word Frequency {}'.format(country1))\n",
    "plt.ylabel('Word Frequency {}'.format(country2))"
   ]
  },
  {
   "cell_type": "markdown",
   "metadata": {},
   "source": [
    "## Latent Dirichlet Allocation Topic Modeling"
   ]
  },
  {
   "cell_type": "code",
   "execution_count": 18,
   "metadata": {},
   "outputs": [],
   "source": [
    "def create_topics(words, features, n_components = 3, n_top_words = 5):\n",
    "    i=0\n",
    "    lda = LatentDirichletAllocation(n_components = n_components, learning_method = 'online', random_state=1)\n",
    "    i+=1\n",
    "    doctopic = lda.fit_transform(words)\n",
    "    i+=1\n",
    "\n",
    "    ls_keywords = []\n",
    "    for i,topic in enumerate(lda.components_):\n",
    "        word_idx = np.argsort(topic)[::-1][:n_top_words]\n",
    "        keywords = ', '.join( features[i] for i in word_idx)\n",
    "        ls_keywords.append(keywords)\n",
    "        print(i, keywords)\n",
    "        i+=1\n",
    "            \n",
    "    return ls_keywords, doctopic"
   ]
  },
  {
   "cell_type": "code",
   "execution_count": 19,
   "metadata": {},
   "outputs": [],
   "source": [
    "corpus = un_speeches['speech'].values"
   ]
  },
  {
   "cell_type": "code",
   "execution_count": 20,
   "metadata": {},
   "outputs": [],
   "source": [
    "corpus_bag_of_words, corpus_features = create_bag_of_words(corpus, ngram_range=(1, 3)\n",
    "                                                           , min_df = 0.05, max_df = 0.95)"
   ]
  },
  {
   "cell_type": "code",
   "execution_count": 21,
   "metadata": {},
   "outputs": [
    {
     "name": "stdout",
     "output_type": "stream",
     "text": [
      "0 secur, sustain, climat, chang, govern\n",
      "1 north, korea, whi, korean, onli\n",
      "2 secur, human, region, right, global\n"
     ]
    }
   ],
   "source": [
    "# Simple LDA Model\n",
    "simple_keywords, simple_corpus_doctopic = create_topics(corpus_bag_of_words, corpus_features)"
   ]
  },
  {
   "cell_type": "code",
   "execution_count": 22,
   "metadata": {},
   "outputs": [
    {
     "name": "stdout",
     "output_type": "stream",
     "text": [
      "0 secur, sustain, human, global, govern, effort, new, commit, need, right, chang, conflict\n",
      "1 korea, north, north korea, republ korea, japan, korean, dialogu, nuclear, missil, republ, six, north korean\n",
      "2 region, human, secur, terror, stabil, right, effort, continu, polit, arab, achiev, terrorist\n",
      "3 secur, global, human, govern, sustain, communiti, region, effort, right, chang, commit, continu\n",
      "4 work, global, sustain, human, right, secur, govern, need, commit, challeng, implement, new\n",
      "5 island, pacif, ocean, climat, climat chang, chang, need, fiji, action, region, new, small\n",
      "6 secur, human, global, sustain, effort, chang, continu, econom, right, govern, implement, need\n",
      "7 ukrain, right, sustain, secur, human, russia, human right, island, global, assembl, time, communiti\n",
      "8 chad, lake, sustain, right, secur, govern, global, climat, continu, make, work, communiti\n",
      "9 secur, global, time, challeng, chang, sustain, govern, continu, effort, human, climat, reform\n",
      "10 global, secur, sustain, region, challeng, implement, human, nuclear, econom, agenda, new, communiti\n",
      "11 global, itali, human, right, sustain, challeng, secur, work, chang, conflict, need, address\n",
      "12 secur, govern, continu, human, right, sustain, chang, region, onli, climat chang, effort, achiev\n"
     ]
    }
   ],
   "source": [
    "# After further Analysis, this distribution seems most relevant\n",
    "ls_corpus_keywords, corpus_doctopic = create_topics(corpus_bag_of_words, corpus_features\n",
    "                                                    , n_components= 13, n_top_words = 12)"
   ]
  },
  {
   "cell_type": "markdown",
   "metadata": {},
   "source": [
    "### Topic Interpretation"
   ]
  },
  {
   "cell_type": "markdown",
   "metadata": {},
   "source": [
    "Which topics seem to make sense?\n",
    "- **Topic 1: North Korea** (`north korea`, `republ korea`, `japan`, `nuclear`, `missil`)\n",
    "- **Topic 2: Arab Region and Terrorism** (`terror`, `arab`, `stabil`)\n",
    "- **Topic 5: Climat Change** (`island`, `pacif`, `ocean`, `climat chang`, `action`)\n",
    "- **Topic 7: Ukrain, Russia, and Human Rights** (`ukrain`, `russia`, `human right`)"
   ]
  },
  {
   "cell_type": "code",
   "execution_count": 23,
   "metadata": {},
   "outputs": [],
   "source": [
    "# Replace this with Relevant Topic Numbers\n",
    "relevant_topics = [1, 2, 5, 7]"
   ]
  },
  {
   "cell_type": "markdown",
   "metadata": {},
   "source": [
    "### Assigning a Dominant Topic\n",
    "\n",
    "Overall, and among the topics that \"make sense\", which is the dominant topic for each speech?"
   ]
  },
  {
   "cell_type": "code",
   "execution_count": 24,
   "metadata": {},
   "outputs": [],
   "source": [
    "# Overall Dominant Topic\n",
    "df = pd.DataFrame(data = corpus_doctopic)\n",
    "dom_topic = np.asarray(df.idxmax(axis=1))\n",
    "dom_topic_pct = np.asarray(df.max(axis = 1))"
   ]
  },
  {
   "cell_type": "code",
   "execution_count": 25,
   "metadata": {},
   "outputs": [],
   "source": [
    "# Dominant Topic among relevant Topics\n",
    "relevant_corpus_doctopic = corpus_doctopic[:, relevant_topics]\n",
    "df = pd.DataFrame(data = relevant_corpus_doctopic)\n",
    "relevant_dom_topic = np.asarray(df.idxmax(axis=1))\n",
    "mapping = np.vectorize(lambda t: relevant_topics[t])\n",
    "relevant_dom_topic = mapping(relevant_dom_topic)\n",
    "relevant_dom_topic_pct = np.asarray(df.max(axis = 1))"
   ]
  },
  {
   "cell_type": "code",
   "execution_count": 26,
   "metadata": {},
   "outputs": [],
   "source": [
    "dom_topics = pd.DataFrame({'country': np.asarray(countries)\n",
    "                           , 'dom_topic': dom_topic\n",
    "                           , 'dom_topic_pct': dom_topic_pct\n",
    "                           , 'relevant_dom_topic': relevant_dom_topic\n",
    "                           , 'relevant_dom_topic_pct': relevant_dom_topic_pct})"
   ]
  },
  {
   "cell_type": "markdown",
   "metadata": {},
   "source": [
    "**Which Countries are most preoccupied with North Korea?**"
   ]
  },
  {
   "cell_type": "code",
   "execution_count": 27,
   "metadata": {},
   "outputs": [
    {
     "data": {
      "text/html": [
       "<div>\n",
       "<style scoped>\n",
       "    .dataframe tbody tr th:only-of-type {\n",
       "        vertical-align: middle;\n",
       "    }\n",
       "\n",
       "    .dataframe tbody tr th {\n",
       "        vertical-align: top;\n",
       "    }\n",
       "\n",
       "    .dataframe thead th {\n",
       "        text-align: right;\n",
       "    }\n",
       "</style>\n",
       "<table border=\"1\" class=\"dataframe\">\n",
       "  <thead>\n",
       "    <tr style=\"text-align: right;\">\n",
       "      <th></th>\n",
       "      <th>country</th>\n",
       "      <th>dom_topic</th>\n",
       "      <th>dom_topic_pct</th>\n",
       "      <th>relevant_dom_topic</th>\n",
       "      <th>relevant_dom_topic_pct</th>\n",
       "    </tr>\n",
       "  </thead>\n",
       "  <tbody>\n",
       "    <tr>\n",
       "      <th>56</th>\n",
       "      <td>Japan</td>\n",
       "      <td>9</td>\n",
       "      <td>0.603156</td>\n",
       "      <td>1</td>\n",
       "      <td>0.348025</td>\n",
       "    </tr>\n",
       "    <tr>\n",
       "      <th>93</th>\n",
       "      <td>Republic_of_Korea</td>\n",
       "      <td>9</td>\n",
       "      <td>0.771108</td>\n",
       "      <td>1</td>\n",
       "      <td>0.150016</td>\n",
       "    </tr>\n",
       "    <tr>\n",
       "      <th>128</th>\n",
       "      <td>Uganda</td>\n",
       "      <td>9</td>\n",
       "      <td>0.997013</td>\n",
       "      <td>1</td>\n",
       "      <td>0.000249</td>\n",
       "    </tr>\n",
       "  </tbody>\n",
       "</table>\n",
       "</div>"
      ],
      "text/plain": [
       "               country  dom_topic  dom_topic_pct  relevant_dom_topic  \\\n",
       "56               Japan          9       0.603156                   1   \n",
       "93   Republic_of_Korea          9       0.771108                   1   \n",
       "128             Uganda          9       0.997013                   1   \n",
       "\n",
       "     relevant_dom_topic_pct  \n",
       "56                 0.348025  \n",
       "93                 0.150016  \n",
       "128                0.000249  "
      ]
     },
     "execution_count": 27,
     "metadata": {},
     "output_type": "execute_result"
    }
   ],
   "source": [
    "dom_topics[dom_topics['relevant_dom_topic']==1]"
   ]
  },
  {
   "cell_type": "markdown",
   "metadata": {},
   "source": [
    "**Which Countries are most preoccupied with Climate Change?**"
   ]
  },
  {
   "cell_type": "code",
   "execution_count": 28,
   "metadata": {},
   "outputs": [
    {
     "data": {
      "text/html": [
       "<div>\n",
       "<style scoped>\n",
       "    .dataframe tbody tr th:only-of-type {\n",
       "        vertical-align: middle;\n",
       "    }\n",
       "\n",
       "    .dataframe tbody tr th {\n",
       "        vertical-align: top;\n",
       "    }\n",
       "\n",
       "    .dataframe thead th {\n",
       "        text-align: right;\n",
       "    }\n",
       "</style>\n",
       "<table border=\"1\" class=\"dataframe\">\n",
       "  <thead>\n",
       "    <tr style=\"text-align: right;\">\n",
       "      <th></th>\n",
       "      <th>country</th>\n",
       "      <th>dom_topic</th>\n",
       "      <th>dom_topic_pct</th>\n",
       "      <th>relevant_dom_topic</th>\n",
       "      <th>relevant_dom_topic_pct</th>\n",
       "    </tr>\n",
       "  </thead>\n",
       "  <tbody>\n",
       "    <tr>\n",
       "      <th>29</th>\n",
       "      <td>Dominica</td>\n",
       "      <td>5</td>\n",
       "      <td>0.603731</td>\n",
       "      <td>5</td>\n",
       "      <td>0.603731</td>\n",
       "    </tr>\n",
       "    <tr>\n",
       "      <th>36</th>\n",
       "      <td>Fiji</td>\n",
       "      <td>9</td>\n",
       "      <td>0.605588</td>\n",
       "      <td>5</td>\n",
       "      <td>0.358389</td>\n",
       "    </tr>\n",
       "    <tr>\n",
       "      <th>72</th>\n",
       "      <td>Micronesia_(Federated_States_of)</td>\n",
       "      <td>9</td>\n",
       "      <td>0.464964</td>\n",
       "      <td>5</td>\n",
       "      <td>0.354228</td>\n",
       "    </tr>\n",
       "    <tr>\n",
       "      <th>80</th>\n",
       "      <td>New_Zealand</td>\n",
       "      <td>9</td>\n",
       "      <td>0.584581</td>\n",
       "      <td>5</td>\n",
       "      <td>0.154612</td>\n",
       "    </tr>\n",
       "    <tr>\n",
       "      <th>86</th>\n",
       "      <td>Papua_New_Guinea</td>\n",
       "      <td>9</td>\n",
       "      <td>0.740563</td>\n",
       "      <td>5</td>\n",
       "      <td>0.216493</td>\n",
       "    </tr>\n",
       "  </tbody>\n",
       "</table>\n",
       "</div>"
      ],
      "text/plain": [
       "                             country  dom_topic  dom_topic_pct  \\\n",
       "29                          Dominica          5       0.603731   \n",
       "36                              Fiji          9       0.605588   \n",
       "72  Micronesia_(Federated_States_of)          9       0.464964   \n",
       "80                       New_Zealand          9       0.584581   \n",
       "86                  Papua_New_Guinea          9       0.740563   \n",
       "\n",
       "    relevant_dom_topic  relevant_dom_topic_pct  \n",
       "29                   5                0.603731  \n",
       "36                   5                0.358389  \n",
       "72                   5                0.354228  \n",
       "80                   5                0.154612  \n",
       "86                   5                0.216493  "
      ]
     },
     "execution_count": 28,
     "metadata": {},
     "output_type": "execute_result"
    }
   ],
   "source": [
    "dom_topics[dom_topics['relevant_dom_topic']==5]"
   ]
  },
  {
   "cell_type": "markdown",
   "metadata": {},
   "source": [
    "### Topic Breakup in a Speech\n",
    "\n",
    "Let's see how well each topic they explains the speech of a given country."
   ]
  },
  {
   "cell_type": "code",
   "execution_count": 29,
   "metadata": {},
   "outputs": [],
   "source": [
    "country = \"Japan\""
   ]
  },
  {
   "cell_type": "code",
   "execution_count": 30,
   "metadata": {},
   "outputs": [
    {
     "name": "stdout",
     "output_type": "stream",
     "text": [
      "Topic 0: 0%\n",
      "Topic 1: 35%\n",
      "Topic 2: 4%\n",
      "Topic 3: 0%\n",
      "Topic 4: 0%\n",
      "Topic 5: 0%\n",
      "Topic 6: 0%\n",
      "Topic 7: 1%\n",
      "Topic 8: 0%\n",
      "Topic 9: 60%\n",
      "Topic 10: 0%\n",
      "Topic 11: 0%\n",
      "Topic 12: 0%\n"
     ]
    }
   ],
   "source": [
    "for i in range(corpus_doctopic.shape[1]):\n",
    "    print(\"Topic {}: {:.0%}\".format(i, corpus_doctopic[countries.index(country)][i]))"
   ]
  },
  {
   "cell_type": "markdown",
   "metadata": {},
   "source": [
    "## Word2Vec Analysis (preliminary)"
   ]
  },
  {
   "cell_type": "code",
   "execution_count": 31,
   "metadata": {},
   "outputs": [],
   "source": [
    "# n_words =10000\n",
    "# list_of_speeches = list() \n",
    "# count = collections.Counter()\n",
    "# for i, country in enumerate(countries):\n",
    "#     with open('../input/clean_data/{}.txt'.format(country), 'r') as myfile:\n",
    "#         speech=myfile.read().replace('\\n', ' ')\n",
    "#     speech = speech.lower()\n",
    "#     speech = re.sub('[^a-z]', ' ', speech)\n",
    "#     wordlist = speech.split()\n",
    "#     wordlist = removeStopwords(wordlist=wordlist, stopwords = stopwords)\n",
    "#     count.update(wordlist)\n",
    "#     list_of_speeches.append(wordlist)\n",
    "\n",
    "# dictionary = dict()\n",
    "# vocabulary_size = 0\n",
    "# for word in count:\n",
    "#     dictionary[word] = len(dictionary)\n",
    "#     vocabulary_size += 1\n",
    "    \n",
    "# list_of_speeches_changed = list()\n",
    "\n",
    "# for i, speech in enumerate(list_of_speeches):\n",
    "#     sub_list = list()\n",
    "#     for word in speech:\n",
    "#         index = dictionary.get(word, 0)\n",
    "#         sub_list.append(index)\n",
    "#     list_of_speeches_changed.append(sub_list)\n",
    "\n",
    "#     reversed_dictionary = dict(zip(dictionary.values(), dictionary.keys()))\n",
    "\n",
    "\n",
    "# word_embeddings, doc2vec_embeddings = doc2vec_training(list_of_speeches_changed, vocabulary_size, 30)\n",
    "# print(word_embeddings[0])"
   ]
  },
  {
   "cell_type": "code",
   "execution_count": null,
   "metadata": {},
   "outputs": [],
   "source": []
  }
 ],
 "metadata": {
  "kernelspec": {
   "display_name": "Python 3",
   "language": "python",
   "name": "python3"
  },
  "language_info": {
   "codemirror_mode": {
    "name": "ipython",
    "version": 3
   },
   "file_extension": ".py",
   "mimetype": "text/x-python",
   "name": "python",
   "nbconvert_exporter": "python",
   "pygments_lexer": "ipython3",
   "version": "3.6.2"
  },
  "toc": {
   "nav_menu": {},
   "number_sections": false,
   "sideBar": true,
   "skip_h1_title": false,
   "title_cell": "Table of Contents",
   "title_sidebar": "Contents",
   "toc_cell": false,
   "toc_position": {
    "height": "calc(100% - 180px)",
    "left": "10px",
    "top": "150px",
    "width": "166px"
   },
   "toc_section_display": true,
   "toc_window_display": true
  }
 },
 "nbformat": 4,
 "nbformat_minor": 2
}
