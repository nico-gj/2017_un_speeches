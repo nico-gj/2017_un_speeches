{
 "cells": [
  {
   "cell_type": "markdown",
   "metadata": {},
   "source": [
    "# UN Speeches – Scraper"
   ]
  },
  {
   "cell_type": "markdown",
   "metadata": {},
   "source": [
    "## Python Setup"
   ]
  },
  {
   "cell_type": "code",
   "execution_count": 1,
   "metadata": {},
   "outputs": [],
   "source": [
    "%matplotlib inline\n",
    "import pandas as pd\n",
    "import numpy as np\n",
    "from bs4 import BeautifulSoup\n",
    "import requests\n",
    "import urllib.request\n",
    "import os\n",
    "import time\n",
    "import subprocess\n",
    "import glob\n",
    "import re"
   ]
  },
  {
   "cell_type": "code",
   "execution_count": 2,
   "metadata": {},
   "outputs": [],
   "source": [
    "from americanize import americanize"
   ]
  },
  {
   "cell_type": "markdown",
   "metadata": {},
   "source": [
    "## Parameters"
   ]
  },
  {
   "cell_type": "code",
   "execution_count": 3,
   "metadata": {},
   "outputs": [],
   "source": [
    "year = 2017"
   ]
  },
  {
   "cell_type": "code",
   "execution_count": 4,
   "metadata": {},
   "outputs": [],
   "source": [
    "headers = {'User-Agent': 'Chrome/41.0.2228.0'}"
   ]
  },
  {
   "cell_type": "markdown",
   "metadata": {},
   "source": [
    "## Scrape list of all speakers, and links to their speeches:"
   ]
  },
  {
   "cell_type": "code",
   "execution_count": 5,
   "metadata": {},
   "outputs": [],
   "source": [
    "if os.path.isdir('../data/raw_data/{}'.format(year))==False:\n",
    "    os.mkdir('../data/raw_data/{}'.format(year))"
   ]
  },
  {
   "cell_type": "code",
   "execution_count": 6,
   "metadata": {},
   "outputs": [],
   "source": [
    "session = year-1945"
   ]
  },
  {
   "cell_type": "code",
   "execution_count": 7,
   "metadata": {},
   "outputs": [
    {
     "name": "stdout",
     "output_type": "stream",
     "text": [
      "200\n"
     ]
    }
   ],
   "source": [
    "base_url = requests.get(\"https://gadebate.un.org/en/sessions-archive/{}\".format(session), headers=headers)\n",
    "print(base_url.status_code)\n",
    "soup = BeautifulSoup(base_url.content, 'html.parser')"
   ]
  },
  {
   "cell_type": "code",
   "execution_count": 8,
   "metadata": {},
   "outputs": [],
   "source": [
    "soup = soup.findAll(class_ = \"media-body\")"
   ]
  },
  {
   "cell_type": "code",
   "execution_count": 9,
   "metadata": {},
   "outputs": [],
   "source": [
    "columns = ['country','name', 'title', 'link', 'speech']\n",
    "df = pd.DataFrame(index=np.arange(len(soup)), columns=columns)"
   ]
  },
  {
   "cell_type": "code",
   "execution_count": 10,
   "metadata": {},
   "outputs": [],
   "source": [
    "for i in range(0, len(soup)):\n",
    "    df['country'][i] = soup[i].find(class_ = \"media-heading\").text\n",
    "    df['name'][i] = soup[i].find(class_ = \"name\").text\n",
    "    df['title'][i] = soup[i].find(class_ = \"title\").text\n",
    "    df['link'][i] = 'https://gadebate.un.org'+soup[i].find('a').get('href')"
   ]
  },
  {
   "cell_type": "code",
   "execution_count": 11,
   "metadata": {
    "scrolled": false
   },
   "outputs": [
    {
     "name": "stdout",
     "output_type": "stream",
     "text": [
      "Scraping: 199/199\n",
      "Done!\n"
     ]
    }
   ],
   "source": [
    "for i in range(0, len(soup)):\n",
    "    print(\"Scraping: {}/{}\".format(i+1, len(soup)), end = '\\r')\n",
    "    tries = 0\n",
    "    while tries < 5:\n",
    "        temp_url = requests.get(df['link'][i], headers=headers)\n",
    "        if temp_url.status_code!=200:\n",
    "            tries += 1\n",
    "            time.sleep(10)\n",
    "        elif BeautifulSoup(temp_url.content, 'html.parser')==None:\n",
    "            tries += 1\n",
    "            time.sleep(10)\n",
    "        elif BeautifulSoup(temp_url.content, 'html.parser').find(class_ = \"statement-documents-list\")==None:\n",
    "            tries += 1\n",
    "            time.sleep(10)            \n",
    "        else:\n",
    "            break\n",
    "    if tries == 5:\n",
    "        print(\"\\nCould not scrape {}.\\n\".format(df['country'][i]))\n",
    "        continue\n",
    "    \n",
    "    temp_soup = BeautifulSoup(temp_url.content, 'html.parser')\n",
    "    link = None\n",
    "    summary = None\n",
    "    \n",
    "    link_list = temp_soup.find(class_ = \"statement-documents-list\").findAll('a')\n",
    "    for j in range(0, len(link_list)):\n",
    "        if \"English\" in link_list[j].text:\n",
    "            link = link_list[j].get('href')\n",
    "            break\n",
    "    if link!=None:\n",
    "        urllib.request.urlretrieve(link, '../data/raw_data/{}/{}.pdf'.format(year, df['country'][i]))\n",
    "    \n",
    "    summary = temp_soup.find(class_=\"field-item even\").text\n",
    "    file = open('../data/raw_data/{}/{} SUMMARY.txt'.format(year, df['country'][i]), 'w')\n",
    "    file.write(summary)\n",
    "    file.close()\n",
    "        \n",
    "print(\"\\nDone!\")"
   ]
  },
  {
   "cell_type": "markdown",
   "metadata": {
    "collapsed": true
   },
   "source": [
    "## Converting to Text"
   ]
  },
  {
   "cell_type": "markdown",
   "metadata": {},
   "source": [
    "Conversion to `.txt` is done using `pdftotxt` from the `Xpdf` suite (https://www.xpdfreader.com/pdftotext-man.html)."
   ]
  },
  {
   "cell_type": "code",
   "execution_count": 12,
   "metadata": {
    "scrolled": true
   },
   "outputs": [
    {
     "data": {
      "text/plain": [
       "0"
      ]
     },
     "execution_count": 12,
     "metadata": {},
     "output_type": "execute_result"
    }
   ],
   "source": [
    "os.system('for file in ../data/raw_data/{}/*.pdf; do pdftotext \"$file\"; done;'.format(year))"
   ]
  },
  {
   "cell_type": "markdown",
   "metadata": {},
   "source": [
    "## Cleaning"
   ]
  },
  {
   "cell_type": "code",
   "execution_count": 13,
   "metadata": {},
   "outputs": [],
   "source": [
    "if os.path.isdir('../data/clean_data/{}'.format(year))==False:\n",
    "    os.mkdir('../data/clean_data/{}'.format(year))"
   ]
  },
  {
   "cell_type": "code",
   "execution_count": 14,
   "metadata": {},
   "outputs": [],
   "source": [
    "txt_files = glob.glob(\"../data/raw_data/{}/*.txt\".format(year))\n",
    "\n",
    "for txt_file in txt_files:\n",
    "    with open(txt_file, 'r', encoding='utf-8', errors='ignore') as file: \n",
    "        txt = file.read()\n",
    "    \n",
    "    txt = txt.replace('\\n', ' ')\n",
    "    txt = txt.replace('\\x0c', ' ')\n",
    "\n",
    "    # Convert all English to American English\n",
    "    txt = americanize(txt)\n",
    "\n",
    "    # Get rid of page headers and footers:\n",
    "    txt = re.sub(r'\\b(please )?check against delivery\\b', '', txt)\n",
    "\n",
    "    # RegEx Cleanup:\n",
    "    txt = re.sub(r'\\s+', ' ', txt)\n",
    "    txt = txt.strip()\n",
    "    \n",
    "    file = open(txt_file.replace('/raw_data/', '/clean_data/'), 'w')\n",
    "    file.write(txt)\n",
    "    file.close()"
   ]
  },
  {
   "cell_type": "markdown",
   "metadata": {},
   "source": [
    "## Combine into Dataset"
   ]
  },
  {
   "cell_type": "code",
   "execution_count": 15,
   "metadata": {},
   "outputs": [],
   "source": [
    "txt_files = glob.glob(\"../data/clean_data/{}/*.txt\".format(year))\n",
    "countries = list(df['country'])\n",
    "countries.sort()"
   ]
  },
  {
   "cell_type": "code",
   "execution_count": 16,
   "metadata": {},
   "outputs": [],
   "source": [
    "speeches = []\n",
    "for country in countries:\n",
    "    if '../data/clean_data/{}/{}.txt'.format(year, country) in txt_files:\n",
    "        with open('../data/clean_data/{}/{}.txt'.format(year, country), 'r') as file:\n",
    "            speech = file.read()\n",
    "    else:\n",
    "        speech = np.nan\n",
    "    speeches.append(speech)"
   ]
  },
  {
   "cell_type": "code",
   "execution_count": 17,
   "metadata": {},
   "outputs": [],
   "source": [
    "summaries = []\n",
    "for country in countries:\n",
    "    with open('../data/clean_data/{}/{} SUMMARY.txt'.format(year, country), 'r') as myfile:\n",
    "        summary = myfile.read()\n",
    "    summaries.append(summary)"
   ]
  },
  {
   "cell_type": "code",
   "execution_count": 18,
   "metadata": {
    "scrolled": false
   },
   "outputs": [],
   "source": [
    "df = pd.DataFrame({'country': countries, 'speech': speeches, 'summary': summaries})"
   ]
  },
  {
   "cell_type": "markdown",
   "metadata": {},
   "source": [
    "## Export"
   ]
  },
  {
   "cell_type": "code",
   "execution_count": 19,
   "metadata": {},
   "outputs": [],
   "source": [
    "df.to_csv('../data/un_speeches_{}.csv'.format(year), index=False)"
   ]
  },
  {
   "cell_type": "markdown",
   "metadata": {},
   "source": [
    "## Sandbox"
   ]
  },
  {
   "cell_type": "code",
   "execution_count": null,
   "metadata": {},
   "outputs": [],
   "source": []
  }
 ],
 "metadata": {
  "kernelspec": {
   "display_name": "Python 3",
   "language": "python",
   "name": "python3"
  },
  "language_info": {
   "codemirror_mode": {
    "name": "ipython",
    "version": 3
   },
   "file_extension": ".py",
   "mimetype": "text/x-python",
   "name": "python",
   "nbconvert_exporter": "python",
   "pygments_lexer": "ipython3",
   "version": "3.6.8"
  },
  "toc": {
   "base_numbering": 1,
   "nav_menu": {},
   "number_sections": false,
   "sideBar": true,
   "skip_h1_title": false,
   "title_cell": "Table of Contents",
   "title_sidebar": "Contents",
   "toc_cell": false,
   "toc_position": {},
   "toc_section_display": true,
   "toc_window_display": true
  }
 },
 "nbformat": 4,
 "nbformat_minor": 2
}
