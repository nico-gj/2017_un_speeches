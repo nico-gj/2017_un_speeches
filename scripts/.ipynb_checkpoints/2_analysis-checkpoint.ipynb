{
 "cells": [
  {
   "cell_type": "markdown",
   "metadata": {},
   "source": [
    "# Data Cleaning"
   ]
  },
  {
   "cell_type": "code",
   "execution_count": 68,
   "metadata": {
    "collapsed": true
   },
   "outputs": [],
   "source": [
    "%matplotlib inline\n",
    "\n",
    "import os\n",
    "from os import path\n",
    "import pandas as pd\n",
    "import numpy as np\n",
    "import matplotlib.pyplot as plt\n",
    "from bs4 import BeautifulSoup\n",
    "import requests\n",
    "import urllib.request\n",
    "import glob, os\n",
    "import re\n",
    "import nltk\n",
    "from nltk.stem.wordnet import WordNetLemmatizer\n",
    "lmtzr = WordNetLemmatizer()\n",
    "sno = nltk.stem.SnowballStemmer('english')\n",
    "ps = nltk.stem.PorterStemmer()\n",
    "import seaborn as sns; sns.set()\n",
    "from sklearn.decomposition import PCA as sklearnPCA\n",
    "from sklearn.preprocessing import StandardScaler"
   ]
  },
  {
   "cell_type": "code",
   "execution_count": 2,
   "metadata": {
    "collapsed": true
   },
   "outputs": [],
   "source": [
    "retval=os.chdir(\"..\")"
   ]
  },
  {
   "cell_type": "code",
   "execution_count": 3,
   "metadata": {
    "collapsed": true
   },
   "outputs": [],
   "source": [
    "retval=os.chdir(\"input/clean_data/\")\n",
    "countries = glob.glob(\"*.txt\")\n",
    "countries = [w.replace('.txt', '') for w in countries]\n",
    "retval=os.chdir(\"../..\")"
   ]
  },
  {
   "cell_type": "code",
   "execution_count": 4,
   "metadata": {
    "collapsed": true
   },
   "outputs": [],
   "source": [
    "stopwords = ['a', 'about', 'above', 'across', 'after', 'afterwards']\n",
    "stopwords += ['again', 'against', 'all', 'almost', 'alone', 'along']\n",
    "stopwords += ['already', 'also', 'although', 'always', 'am', 'among']\n",
    "stopwords += ['amongst', 'amoungst', 'amount', 'an', 'and', 'another']\n",
    "stopwords += ['any', 'anyhow', 'anyone', 'anything', 'anyway', 'anywhere']\n",
    "stopwords += ['are', 'around', 'as', 'at', 'back', 'be', 'became']\n",
    "stopwords += ['because', 'become', 'becomes', 'becoming', 'been']\n",
    "stopwords += ['before', 'beforehand', 'behind', 'being', 'below']\n",
    "stopwords += ['beside', 'besides', 'between', 'beyond', 'bill', 'both']\n",
    "stopwords += ['bottom', 'but', 'by', 'call', 'can', 'cannot', 'cant']\n",
    "stopwords += ['co', 'computer', 'con', 'could', 'couldnt', 'cry', 'de']\n",
    "stopwords += ['describe', 'detail', 'did', 'do', 'done', 'down', 'due']\n",
    "stopwords += ['during', 'each', 'eg', 'eight', 'either', 'eleven', 'else']\n",
    "stopwords += ['elsewhere', 'empty', 'enough', 'etc', 'even', 'ever']\n",
    "stopwords += ['every', 'everyone', 'everything', 'everywhere', 'except']\n",
    "stopwords += ['few', 'fifteen', 'fifty', 'fill', 'find', 'fire', 'first']\n",
    "stopwords += ['five', 'for', 'former', 'formerly', 'forty', 'found']\n",
    "stopwords += ['four', 'from', 'front', 'full', 'further', 'get', 'give']\n",
    "stopwords += ['go', 'had', 'has', 'hasnt', 'have', 'he', 'hence', 'her']\n",
    "stopwords += ['here', 'hereafter', 'hereby', 'herein', 'hereupon', 'hers']\n",
    "stopwords += ['herself', 'him', 'himself', 'his', 'how', 'however']\n",
    "stopwords += ['hundred', 'i', 'ie', 'if', 'in', 'inc', 'indeed']\n",
    "stopwords += ['interest', 'into', 'is', 'it', 'its', 'itself', 'keep']\n",
    "stopwords += ['last', 'latter', 'latterly', 'least', 'less', 'ltd', 'made']\n",
    "stopwords += ['many', 'may', 'me', 'meanwhile', 'might', 'mill', 'mine']\n",
    "stopwords += ['more', 'moreover', 'most', 'mostly', 'move', 'much']\n",
    "stopwords += ['must', 'my', 'myself', 'name', 'namely', 'neither', 'never']\n",
    "stopwords += ['nevertheless', 'next', 'nine', 'no', 'nobody', 'none']\n",
    "stopwords += ['noone', 'nor', 'not', 'nothing', 'now', 'nowhere', 'of']\n",
    "stopwords += ['off', 'often', 'on','once', 'one', 'only', 'onto', 'or']\n",
    "stopwords += ['other', 'others', 'otherwise', 'our', 'ours', 'ourselves']\n",
    "stopwords += ['out', 'over', 'own', 'part', 'per', 'perhaps', 'please']\n",
    "stopwords += ['put', 'rather', 're', 's', 'same', 'see', 'seem', 'seemed']\n",
    "stopwords += ['seeming', 'seems', 'serious', 'several', 'she', 'should']\n",
    "stopwords += ['show', 'side', 'since', 'sincere', 'six', 'sixty', 'so']\n",
    "stopwords += ['some', 'somehow', 'someone', 'something', 'sometime']\n",
    "stopwords += ['sometimes', 'somewhere', 'still', 'such', 'system', 'take']\n",
    "stopwords += ['ten', 'than', 'that', 'the', 'their', 'them', 'themselves']\n",
    "stopwords += ['then', 'thence', 'there', 'thereafter', 'thereby']\n",
    "stopwords += ['therefore', 'therein', 'thereupon', 'these', 'they']\n",
    "stopwords += ['thick', 'thin', 'third', 'this', 'those', 'though', 'three']\n",
    "stopwords += ['three', 'through', 'throughout', 'thru', 'thus', 'to']\n",
    "stopwords += ['together', 'too', 'top', 'toward', 'towards', 'twelve']\n",
    "stopwords += ['twenty', 'two', 'un', 'under', 'until', 'up', 'upon']\n",
    "stopwords += ['us', 'very', 'via', 'was', 'we', 'well', 'were', 'what']\n",
    "stopwords += ['whatever', 'when', 'whence', 'whenever', 'where']\n",
    "stopwords += ['whereafter', 'whereas', 'whereby', 'wherein', 'whereupon']\n",
    "stopwords += ['wherever', 'whether', 'which', 'while', 'whither', 'who']\n",
    "stopwords += ['whoever', 'whole', 'whom', 'whose', 'why', 'will', 'with']\n",
    "stopwords += ['within', 'without', 'would', 'yet', 'you', 'your']\n",
    "stopwords += ['yours', 'yourself', 'yourselves']\n",
    "#stopwords = [x.upper() for x in stopwords]"
   ]
  },
  {
   "cell_type": "code",
   "execution_count": 5,
   "metadata": {
    "collapsed": true
   },
   "outputs": [],
   "source": [
    "def removeStopwords(wordlist, stopwords):\n",
    "    return [w for w in wordlist if w not in stopwords]\n",
    "def wordListToFreqDict(wordlist):\n",
    "    wordfreq = [wordlist.count(p) for p in wordlist]\n",
    "    return dict(zip(wordlist,wordfreq))\n",
    "def sortFreqDict(freqdict):\n",
    "    aux = [(key, freqdict[key]) for key in freqdict]\n",
    "    aux.sort()\n",
    "    return aux"
   ]
  },
  {
   "cell_type": "code",
   "execution_count": 20,
   "metadata": {},
   "outputs": [
    {
     "name": "stdout",
     "output_type": "stream",
     "text": [
      "NON-AVAILABLE COUNTRIES:\n",
      "Kenya\n",
      "Palestine_(State_of)\n",
      "The_former_Yugoslav_Republic_of_Macedonia\n",
      "Lebanon\n",
      "Lao_People’s_Democratic_Republic\n",
      "Qatar\n",
      "Nicaragua\n",
      "Mongolia\n",
      "Bahrain\n"
     ]
    }
   ],
   "source": [
    "df = pd.DataFrame(\"\", index=np.arange(0), columns=['word'])\n",
    "print(\"NON-AVAILABLE COUNTRIES:\")\n",
    "for country in countries:\n",
    "    with open('input/clean_data/{}.txt'.format(country), 'r') as myfile:\n",
    "        speech=myfile.read().replace('\\n', '')\n",
    "    speech = speech.lower()\n",
    "    speech = re.sub('[^a-z]', ' ', speech)\n",
    "    wordlist = speech.split()\n",
    "    wordlist = removeStopwords(wordlist=wordlist, stopwords = stopwords)\n",
    "    \n",
    "    table = sortFreqDict(wordListToFreqDict(wordlist=wordlist))\n",
    "    \n",
    "    if len(table) == 0:\n",
    "        print(country)\n",
    "        \n",
    "    else:\n",
    "        table = pd.DataFrame(np.array(table), columns = ['word', 'count'])\n",
    "        table['count'] = pd.to_numeric(table['count'])\n",
    "#        table['word_1'] = table['word'].apply(lambda x: lmtzr.lemmatize(x))\n",
    "#        table['word_2'] = table['word'].apply(lambda x: ps.stem(x))\n",
    "        table['word_3'] = table['word'].apply(lambda x: sno.stem(x))\n",
    "\n",
    "        grouped = pd.DataFrame({'freq' : table.groupby(['word_3'])['count'].agg('sum')}).reset_index()\n",
    "    \n",
    "        df = pd.merge(df, grouped, how = 'outer', left_on='word', right_on='word_3')\n",
    "        df['word'] = np.where(df['word'].isnull(), df['word_3'], df['word'])\n",
    "        df[country] = df['freq']\n",
    "        del df['word_3']\n",
    "        del df['freq']\n",
    "\n",
    "df = df.sort_values('word').reset_index(drop = True)"
   ]
  },
  {
   "cell_type": "code",
   "execution_count": 24,
   "metadata": {},
   "outputs": [
    {
     "data": {
      "text/html": [
       "<div>\n",
       "<style>\n",
       "    .dataframe thead tr:only-child th {\n",
       "        text-align: right;\n",
       "    }\n",
       "\n",
       "    .dataframe thead th {\n",
       "        text-align: left;\n",
       "    }\n",
       "\n",
       "    .dataframe tbody tr th {\n",
       "        vertical-align: top;\n",
       "    }\n",
       "</style>\n",
       "<table border=\"1\" class=\"dataframe\">\n",
       "  <thead>\n",
       "    <tr style=\"text-align: right;\">\n",
       "      <th></th>\n",
       "      <th>word</th>\n",
       "      <th>Holy_See</th>\n",
       "      <th>Nepal</th>\n",
       "      <th>Turkey</th>\n",
       "      <th>Australia</th>\n",
       "      <th>Timor-Leste</th>\n",
       "      <th>Cameroon</th>\n",
       "      <th>Mozambique</th>\n",
       "      <th>Brazil</th>\n",
       "      <th>Greece</th>\n",
       "      <th>...</th>\n",
       "      <th>France</th>\n",
       "      <th>Thailand</th>\n",
       "      <th>Kuwait</th>\n",
       "      <th>Mauritius</th>\n",
       "      <th>Portugal</th>\n",
       "      <th>Tuvalu</th>\n",
       "      <th>Spain</th>\n",
       "      <th>Secretary-General_of_the_United_Nations</th>\n",
       "      <th>San_Marino</th>\n",
       "      <th>Paraguay</th>\n",
       "    </tr>\n",
       "  </thead>\n",
       "  <tbody>\n",
       "    <tr>\n",
       "      <th>count</th>\n",
       "      <td>10067</td>\n",
       "      <td>814.000000</td>\n",
       "      <td>679.000000</td>\n",
       "      <td>654.000000</td>\n",
       "      <td>446.000000</td>\n",
       "      <td>721.000000</td>\n",
       "      <td>404.000000</td>\n",
       "      <td>628.000000</td>\n",
       "      <td>583.000000</td>\n",
       "      <td>519.000000</td>\n",
       "      <td>...</td>\n",
       "      <td>859.000000</td>\n",
       "      <td>423.000000</td>\n",
       "      <td>638.000000</td>\n",
       "      <td>578.000000</td>\n",
       "      <td>495.000000</td>\n",
       "      <td>643.000000</td>\n",
       "      <td>667.000000</td>\n",
       "      <td>934.000000</td>\n",
       "      <td>670.000000</td>\n",
       "      <td>648.000000</td>\n",
       "    </tr>\n",
       "    <tr>\n",
       "      <th>unique</th>\n",
       "      <td>10067</td>\n",
       "      <td>NaN</td>\n",
       "      <td>NaN</td>\n",
       "      <td>NaN</td>\n",
       "      <td>NaN</td>\n",
       "      <td>NaN</td>\n",
       "      <td>NaN</td>\n",
       "      <td>NaN</td>\n",
       "      <td>NaN</td>\n",
       "      <td>NaN</td>\n",
       "      <td>...</td>\n",
       "      <td>NaN</td>\n",
       "      <td>NaN</td>\n",
       "      <td>NaN</td>\n",
       "      <td>NaN</td>\n",
       "      <td>NaN</td>\n",
       "      <td>NaN</td>\n",
       "      <td>NaN</td>\n",
       "      <td>NaN</td>\n",
       "      <td>NaN</td>\n",
       "      <td>NaN</td>\n",
       "    </tr>\n",
       "    <tr>\n",
       "      <th>top</th>\n",
       "      <td>surpass</td>\n",
       "      <td>NaN</td>\n",
       "      <td>NaN</td>\n",
       "      <td>NaN</td>\n",
       "      <td>NaN</td>\n",
       "      <td>NaN</td>\n",
       "      <td>NaN</td>\n",
       "      <td>NaN</td>\n",
       "      <td>NaN</td>\n",
       "      <td>NaN</td>\n",
       "      <td>...</td>\n",
       "      <td>NaN</td>\n",
       "      <td>NaN</td>\n",
       "      <td>NaN</td>\n",
       "      <td>NaN</td>\n",
       "      <td>NaN</td>\n",
       "      <td>NaN</td>\n",
       "      <td>NaN</td>\n",
       "      <td>NaN</td>\n",
       "      <td>NaN</td>\n",
       "      <td>NaN</td>\n",
       "    </tr>\n",
       "    <tr>\n",
       "      <th>freq</th>\n",
       "      <td>1</td>\n",
       "      <td>NaN</td>\n",
       "      <td>NaN</td>\n",
       "      <td>NaN</td>\n",
       "      <td>NaN</td>\n",
       "      <td>NaN</td>\n",
       "      <td>NaN</td>\n",
       "      <td>NaN</td>\n",
       "      <td>NaN</td>\n",
       "      <td>NaN</td>\n",
       "      <td>...</td>\n",
       "      <td>NaN</td>\n",
       "      <td>NaN</td>\n",
       "      <td>NaN</td>\n",
       "      <td>NaN</td>\n",
       "      <td>NaN</td>\n",
       "      <td>NaN</td>\n",
       "      <td>NaN</td>\n",
       "      <td>NaN</td>\n",
       "      <td>NaN</td>\n",
       "      <td>NaN</td>\n",
       "    </tr>\n",
       "    <tr>\n",
       "      <th>mean</th>\n",
       "      <td>NaN</td>\n",
       "      <td>2.266585</td>\n",
       "      <td>1.972018</td>\n",
       "      <td>1.981651</td>\n",
       "      <td>1.863229</td>\n",
       "      <td>2.291262</td>\n",
       "      <td>1.653465</td>\n",
       "      <td>2.189490</td>\n",
       "      <td>1.610635</td>\n",
       "      <td>1.795761</td>\n",
       "      <td>...</td>\n",
       "      <td>2.238650</td>\n",
       "      <td>1.867612</td>\n",
       "      <td>2.167712</td>\n",
       "      <td>1.852941</td>\n",
       "      <td>1.951515</td>\n",
       "      <td>2.202177</td>\n",
       "      <td>1.827586</td>\n",
       "      <td>1.725910</td>\n",
       "      <td>1.964179</td>\n",
       "      <td>2.010802</td>\n",
       "    </tr>\n",
       "    <tr>\n",
       "      <th>std</th>\n",
       "      <td>NaN</td>\n",
       "      <td>3.008629</td>\n",
       "      <td>2.452038</td>\n",
       "      <td>2.321674</td>\n",
       "      <td>2.125636</td>\n",
       "      <td>3.038374</td>\n",
       "      <td>1.587392</td>\n",
       "      <td>2.655814</td>\n",
       "      <td>1.612139</td>\n",
       "      <td>1.676749</td>\n",
       "      <td>...</td>\n",
       "      <td>2.653686</td>\n",
       "      <td>2.064474</td>\n",
       "      <td>2.801394</td>\n",
       "      <td>2.033728</td>\n",
       "      <td>2.123150</td>\n",
       "      <td>3.092982</td>\n",
       "      <td>2.044979</td>\n",
       "      <td>1.966993</td>\n",
       "      <td>2.407369</td>\n",
       "      <td>2.316170</td>\n",
       "    </tr>\n",
       "    <tr>\n",
       "      <th>min</th>\n",
       "      <td>NaN</td>\n",
       "      <td>1.000000</td>\n",
       "      <td>1.000000</td>\n",
       "      <td>1.000000</td>\n",
       "      <td>1.000000</td>\n",
       "      <td>1.000000</td>\n",
       "      <td>1.000000</td>\n",
       "      <td>1.000000</td>\n",
       "      <td>1.000000</td>\n",
       "      <td>1.000000</td>\n",
       "      <td>...</td>\n",
       "      <td>1.000000</td>\n",
       "      <td>1.000000</td>\n",
       "      <td>1.000000</td>\n",
       "      <td>1.000000</td>\n",
       "      <td>1.000000</td>\n",
       "      <td>1.000000</td>\n",
       "      <td>1.000000</td>\n",
       "      <td>1.000000</td>\n",
       "      <td>1.000000</td>\n",
       "      <td>1.000000</td>\n",
       "    </tr>\n",
       "    <tr>\n",
       "      <th>25%</th>\n",
       "      <td>NaN</td>\n",
       "      <td>1.000000</td>\n",
       "      <td>1.000000</td>\n",
       "      <td>1.000000</td>\n",
       "      <td>1.000000</td>\n",
       "      <td>1.000000</td>\n",
       "      <td>1.000000</td>\n",
       "      <td>1.000000</td>\n",
       "      <td>1.000000</td>\n",
       "      <td>1.000000</td>\n",
       "      <td>...</td>\n",
       "      <td>1.000000</td>\n",
       "      <td>1.000000</td>\n",
       "      <td>1.000000</td>\n",
       "      <td>1.000000</td>\n",
       "      <td>1.000000</td>\n",
       "      <td>1.000000</td>\n",
       "      <td>1.000000</td>\n",
       "      <td>1.000000</td>\n",
       "      <td>1.000000</td>\n",
       "      <td>1.000000</td>\n",
       "    </tr>\n",
       "    <tr>\n",
       "      <th>50%</th>\n",
       "      <td>NaN</td>\n",
       "      <td>1.000000</td>\n",
       "      <td>1.000000</td>\n",
       "      <td>1.000000</td>\n",
       "      <td>1.000000</td>\n",
       "      <td>1.000000</td>\n",
       "      <td>1.000000</td>\n",
       "      <td>1.000000</td>\n",
       "      <td>1.000000</td>\n",
       "      <td>1.000000</td>\n",
       "      <td>...</td>\n",
       "      <td>1.000000</td>\n",
       "      <td>1.000000</td>\n",
       "      <td>1.000000</td>\n",
       "      <td>1.000000</td>\n",
       "      <td>1.000000</td>\n",
       "      <td>1.000000</td>\n",
       "      <td>1.000000</td>\n",
       "      <td>1.000000</td>\n",
       "      <td>1.000000</td>\n",
       "      <td>1.000000</td>\n",
       "    </tr>\n",
       "    <tr>\n",
       "      <th>75%</th>\n",
       "      <td>NaN</td>\n",
       "      <td>2.000000</td>\n",
       "      <td>2.000000</td>\n",
       "      <td>2.000000</td>\n",
       "      <td>2.000000</td>\n",
       "      <td>2.000000</td>\n",
       "      <td>2.000000</td>\n",
       "      <td>2.000000</td>\n",
       "      <td>2.000000</td>\n",
       "      <td>2.000000</td>\n",
       "      <td>...</td>\n",
       "      <td>2.000000</td>\n",
       "      <td>2.000000</td>\n",
       "      <td>2.000000</td>\n",
       "      <td>2.000000</td>\n",
       "      <td>2.000000</td>\n",
       "      <td>2.000000</td>\n",
       "      <td>2.000000</td>\n",
       "      <td>2.000000</td>\n",
       "      <td>2.000000</td>\n",
       "      <td>2.000000</td>\n",
       "    </tr>\n",
       "    <tr>\n",
       "      <th>max</th>\n",
       "      <td>NaN</td>\n",
       "      <td>32.000000</td>\n",
       "      <td>35.000000</td>\n",
       "      <td>24.000000</td>\n",
       "      <td>21.000000</td>\n",
       "      <td>32.000000</td>\n",
       "      <td>12.000000</td>\n",
       "      <td>28.000000</td>\n",
       "      <td>17.000000</td>\n",
       "      <td>15.000000</td>\n",
       "      <td>...</td>\n",
       "      <td>24.000000</td>\n",
       "      <td>23.000000</td>\n",
       "      <td>33.000000</td>\n",
       "      <td>22.000000</td>\n",
       "      <td>19.000000</td>\n",
       "      <td>29.000000</td>\n",
       "      <td>27.000000</td>\n",
       "      <td>21.000000</td>\n",
       "      <td>27.000000</td>\n",
       "      <td>25.000000</td>\n",
       "    </tr>\n",
       "  </tbody>\n",
       "</table>\n",
       "<p>11 rows × 139 columns</p>\n",
       "</div>"
      ],
      "text/plain": [
       "           word    Holy_See       Nepal      Turkey   Australia  Timor-Leste  \\\n",
       "count     10067  814.000000  679.000000  654.000000  446.000000   721.000000   \n",
       "unique    10067         NaN         NaN         NaN         NaN          NaN   \n",
       "top     surpass         NaN         NaN         NaN         NaN          NaN   \n",
       "freq          1         NaN         NaN         NaN         NaN          NaN   \n",
       "mean        NaN    2.266585    1.972018    1.981651    1.863229     2.291262   \n",
       "std         NaN    3.008629    2.452038    2.321674    2.125636     3.038374   \n",
       "min         NaN    1.000000    1.000000    1.000000    1.000000     1.000000   \n",
       "25%         NaN    1.000000    1.000000    1.000000    1.000000     1.000000   \n",
       "50%         NaN    1.000000    1.000000    1.000000    1.000000     1.000000   \n",
       "75%         NaN    2.000000    2.000000    2.000000    2.000000     2.000000   \n",
       "max         NaN   32.000000   35.000000   24.000000   21.000000    32.000000   \n",
       "\n",
       "          Cameroon  Mozambique      Brazil      Greece     ...      \\\n",
       "count   404.000000  628.000000  583.000000  519.000000     ...       \n",
       "unique         NaN         NaN         NaN         NaN     ...       \n",
       "top            NaN         NaN         NaN         NaN     ...       \n",
       "freq           NaN         NaN         NaN         NaN     ...       \n",
       "mean      1.653465    2.189490    1.610635    1.795761     ...       \n",
       "std       1.587392    2.655814    1.612139    1.676749     ...       \n",
       "min       1.000000    1.000000    1.000000    1.000000     ...       \n",
       "25%       1.000000    1.000000    1.000000    1.000000     ...       \n",
       "50%       1.000000    1.000000    1.000000    1.000000     ...       \n",
       "75%       2.000000    2.000000    2.000000    2.000000     ...       \n",
       "max      12.000000   28.000000   17.000000   15.000000     ...       \n",
       "\n",
       "            France    Thailand      Kuwait   Mauritius    Portugal  \\\n",
       "count   859.000000  423.000000  638.000000  578.000000  495.000000   \n",
       "unique         NaN         NaN         NaN         NaN         NaN   \n",
       "top            NaN         NaN         NaN         NaN         NaN   \n",
       "freq           NaN         NaN         NaN         NaN         NaN   \n",
       "mean      2.238650    1.867612    2.167712    1.852941    1.951515   \n",
       "std       2.653686    2.064474    2.801394    2.033728    2.123150   \n",
       "min       1.000000    1.000000    1.000000    1.000000    1.000000   \n",
       "25%       1.000000    1.000000    1.000000    1.000000    1.000000   \n",
       "50%       1.000000    1.000000    1.000000    1.000000    1.000000   \n",
       "75%       2.000000    2.000000    2.000000    2.000000    2.000000   \n",
       "max      24.000000   23.000000   33.000000   22.000000   19.000000   \n",
       "\n",
       "            Tuvalu       Spain  Secretary-General_of_the_United_Nations  \\\n",
       "count   643.000000  667.000000                               934.000000   \n",
       "unique         NaN         NaN                                      NaN   \n",
       "top            NaN         NaN                                      NaN   \n",
       "freq           NaN         NaN                                      NaN   \n",
       "mean      2.202177    1.827586                                 1.725910   \n",
       "std       3.092982    2.044979                                 1.966993   \n",
       "min       1.000000    1.000000                                 1.000000   \n",
       "25%       1.000000    1.000000                                 1.000000   \n",
       "50%       1.000000    1.000000                                 1.000000   \n",
       "75%       2.000000    2.000000                                 2.000000   \n",
       "max      29.000000   27.000000                                21.000000   \n",
       "\n",
       "        San_Marino    Paraguay  \n",
       "count   670.000000  648.000000  \n",
       "unique         NaN         NaN  \n",
       "top            NaN         NaN  \n",
       "freq           NaN         NaN  \n",
       "mean      1.964179    2.010802  \n",
       "std       2.407369    2.316170  \n",
       "min       1.000000    1.000000  \n",
       "25%       1.000000    1.000000  \n",
       "50%       1.000000    1.000000  \n",
       "75%       2.000000    2.000000  \n",
       "max      27.000000   25.000000  \n",
       "\n",
       "[11 rows x 139 columns]"
      ]
     },
     "execution_count": 24,
     "metadata": {},
     "output_type": "execute_result"
    }
   ],
   "source": [
    "df.describe(include = 'all')"
   ]
  },
  {
   "cell_type": "markdown",
   "metadata": {},
   "source": [
    "## Example of USA and France:"
   ]
  },
  {
   "cell_type": "code",
   "execution_count": 54,
   "metadata": {},
   "outputs": [],
   "source": [
    "usa_france = df[['word', 'United_States_of_America', 'France']]\n",
    "usa_france = usa_france[(usa_france['United_States_of_America'].isnull() == False) \n",
    "                        |(usa_france['France'].isnull() == False) \n",
    "                       ].reset_index(drop = True)"
   ]
  },
  {
   "cell_type": "code",
   "execution_count": 56,
   "metadata": {
    "scrolled": true
   },
   "outputs": [
    {
     "data": {
      "image/png": "[encoded data removed]",
      "text/plain": [
       "<matplotlib.figure.Figure at 0x1a1321e5f8>"
      ]
     },
     "metadata": {},
     "output_type": "display_data"
    }
   ],
   "source": [
    "y=usa_france['United_States_of_America']\n",
    "z=usa_france['France']\n",
    "n=usa_france['word']\n",
    "\n",
    "fig, ax = plt.subplots()\n",
    "ax.scatter(z, y)\n",
    "\n",
    "for i, txt in enumerate(n):\n",
    "    ax.annotate(txt, (z[i],y[i]))"
   ]
  },
  {
   "cell_type": "markdown",
   "metadata": {},
   "source": [
    "## PCA on word count:"
   ]
  },
  {
   "cell_type": "code",
   "execution_count": 191,
   "metadata": {},
   "outputs": [
    {
     "name": "stdout",
     "output_type": "stream",
     "text": [
      "(10067, 139)\n"
     ]
    }
   ],
   "source": [
    "df1 = df.copy()\n",
    "print(df1.shape)"
   ]
  },
  {
   "cell_type": "code",
   "execution_count": 192,
   "metadata": {
    "collapsed": true
   },
   "outputs": [],
   "source": [
    "columns = list(df1)\n",
    "country_columns = columns[1:]\n",
    "for country in country_columns:\n",
    "    df[country] = df[country].fillna(0)"
   ]
  },
  {
   "cell_type": "markdown",
   "metadata": {},
   "source": [
    "___ Limit data to words refered to by at least X countries:___"
   ]
  },
  {
   "cell_type": "code",
   "execution_count": 193,
   "metadata": {},
   "outputs": [
    {
     "name": "stdout",
     "output_type": "stream",
     "text": [
      "(1032, 139)\n"
     ]
    }
   ],
   "source": [
    "df1['occurrence'] = df1.astype(bool).sum(axis=1)\n",
    "df1 = df1[df1['occurrence']>5]\n",
    "del df1['occurrence']\n",
    "print(df1.shape)"
   ]
  },
  {
   "cell_type": "markdown",
   "metadata": {},
   "source": [
    "___ PCA analysis:___"
   ]
  },
  {
   "cell_type": "code",
   "execution_count": 194,
   "metadata": {},
   "outputs": [],
   "source": [
    "df2 = df1.transpose().copy()\n",
    "df2.columns = df2.iloc[0].values.tolist()\n",
    "df2 = df2.iloc[1:]\n",
    "df2 = df2.reset_index()"
   ]
  },
  {
   "cell_type": "code",
   "execution_count": 195,
   "metadata": {},
   "outputs": [],
   "source": [
    "X = df2.iloc[:,1:].values\n",
    "y_ = df2.iloc[:, 0].values"
   ]
  },
  {
   "cell_type": "code",
   "execution_count": 196,
   "metadata": {},
   "outputs": [
    {
     "name": "stderr",
     "output_type": "stream",
     "text": [
      "/Users/nj995/anaconda3/lib/python3.6/site-packages/sklearn/utils/validation.py:444: DataConversionWarning: Data with input dtype object was converted to float64 by StandardScaler.\n",
      "  warnings.warn(msg, DataConversionWarning)\n"
     ]
    }
   ],
   "source": [
    "X_std = StandardScaler().fit_transform(X)"
   ]
  },
  {
   "cell_type": "code",
   "execution_count": 197,
   "metadata": {},
   "outputs": [],
   "source": [
    "sklearn_pca = sklearnPCA(n_components=2)\n",
    "Y_sklearn = sklearn_pca.fit_transform(X_std)"
   ]
  },
  {
   "cell_type": "markdown",
   "metadata": {},
   "source": [
    "___Plot 2 axes:___"
   ]
  },
  {
   "cell_type": "code",
   "execution_count": 198,
   "metadata": {},
   "outputs": [
    {
     "data": {
      "image/png": "[encoded data removed]",
      "text/plain": [
       "<matplotlib.figure.Figure at 0x1a1a435438>"
      ]
     },
     "metadata": {},
     "output_type": "display_data"
    }
   ],
   "source": [
    "y=Y_sklearn[:,0]\n",
    "z=Y_sklearn[:,1]\n",
    "n=y_\n",
    "\n",
    "fig, ax = plt.subplots()\n",
    "ax.scatter(z, y)\n",
    "\n",
    "for i, txt in enumerate(n):\n",
    "    ax.annotate(txt, (z[i],y[i]))"
   ]
  },
  {
   "cell_type": "code",
   "execution_count": null,
   "metadata": {
    "collapsed": true
   },
   "outputs": [],
   "source": []
  }
 ],
 "metadata": {
  "kernelspec": {
   "display_name": "Python 3",
   "language": "python",
   "name": "python3"
  },
  "language_info": {
   "codemirror_mode": {
    "name": "ipython",
    "version": 3
   },
   "file_extension": ".py",
   "mimetype": "text/x-python",
   "name": "python",
   "nbconvert_exporter": "python",
   "pygments_lexer": "ipython3",
   "version": "3.6.2"
  }
 },
 "nbformat": 4,
 "nbformat_minor": 2
}
