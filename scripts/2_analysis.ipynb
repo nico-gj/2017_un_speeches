{
 "cells": [
  {
   "cell_type": "markdown",
   "metadata": {},
   "source": [
    "# Data Cleaning"
   ]
  },
  {
   "cell_type": "code",
   "execution_count": 1,
   "metadata": {
    "collapsed": true
   },
   "outputs": [],
   "source": [
    "%matplotlib inline\n",
    "\n",
    "import os\n",
    "from os import path\n",
    "import pandas as pd\n",
    "import numpy as np\n",
    "import matplotlib.pyplot as plt\n",
    "from bs4 import BeautifulSoup\n",
    "import requests\n",
    "import urllib.request\n",
    "import glob, os\n",
    "import re\n",
    "import nltk\n",
    "from nltk.stem.wordnet import WordNetLemmatizer\n",
    "lmtzr = WordNetLemmatizer()\n",
    "sno = nltk.stem.SnowballStemmer('english')\n",
    "ps = nltk.stem.PorterStemmer()\n",
    "import seaborn as sns; sns.set()\n",
    "from sklearn.decomposition import PCA as sklearnPCA\n",
    "from sklearn.preprocessing import StandardScaler"
   ]
  },
  {
   "cell_type": "code",
   "execution_count": 2,
   "metadata": {
    "collapsed": true
   },
   "outputs": [],
   "source": [
    "retval=os.chdir(\"..\")"
   ]
  },
  {
   "cell_type": "code",
   "execution_count": 3,
   "metadata": {
    "collapsed": true
   },
   "outputs": [],
   "source": [
    "retval=os.chdir(\"input/clean_data/\")\n",
    "countries = glob.glob(\"*.txt\")\n",
    "countries = [w.replace('.txt', '') for w in countries]\n",
    "countries.sort()\n",
    "retval=os.chdir(\"../..\")"
   ]
  },
  {
   "cell_type": "code",
   "execution_count": 4,
   "metadata": {
    "collapsed": true
   },
   "outputs": [],
   "source": [
    "stopwords = ['a', 'about', 'above', 'across', 'after', 'afterwards']\n",
    "stopwords += ['again', 'against', 'all', 'almost', 'alone', 'along']\n",
    "stopwords += ['already', 'also', 'although', 'always', 'am', 'among']\n",
    "stopwords += ['amongst', 'amoungst', 'amount', 'an', 'and', 'another']\n",
    "stopwords += ['any', 'anyhow', 'anyone', 'anything', 'anyway', 'anywhere']\n",
    "stopwords += ['are', 'around', 'as', 'at', 'back', 'be', 'became']\n",
    "stopwords += ['because', 'become', 'becomes', 'becoming', 'been']\n",
    "stopwords += ['before', 'beforehand', 'behind', 'being', 'below']\n",
    "stopwords += ['beside', 'besides', 'between', 'beyond', 'bill', 'both']\n",
    "stopwords += ['bottom', 'but', 'by', 'call', 'can', 'cannot', 'cant']\n",
    "stopwords += ['co', 'computer', 'con', 'could', 'couldnt', 'cry', 'de']\n",
    "stopwords += ['describe', 'detail', 'did', 'do', 'done', 'down', 'due']\n",
    "stopwords += ['during', 'each', 'eg', 'eight', 'either', 'eleven', 'else']\n",
    "stopwords += ['elsewhere', 'empty', 'enough', 'etc', 'even', 'ever']\n",
    "stopwords += ['every', 'everyone', 'everything', 'everywhere', 'except']\n",
    "stopwords += ['few', 'fifteen', 'fifty', 'fill', 'find', 'fire', 'first']\n",
    "stopwords += ['five', 'for', 'former', 'formerly', 'forty', 'found']\n",
    "stopwords += ['four', 'from', 'front', 'full', 'further', 'get', 'give']\n",
    "stopwords += ['go', 'had', 'has', 'hasnt', 'have', 'he', 'hence', 'her']\n",
    "stopwords += ['here', 'hereafter', 'hereby', 'herein', 'hereupon', 'hers']\n",
    "stopwords += ['herself', 'him', 'himself', 'his', 'how', 'however']\n",
    "stopwords += ['hundred', 'i', 'ie', 'if', 'in', 'inc', 'indeed']\n",
    "stopwords += ['interest', 'into', 'is', 'it', 'its', 'itself', 'keep']\n",
    "stopwords += ['last', 'latter', 'latterly', 'least', 'less', 'ltd', 'made']\n",
    "stopwords += ['many', 'may', 'me', 'meanwhile', 'might', 'mill', 'mine']\n",
    "stopwords += ['more', 'moreover', 'most', 'mostly', 'move', 'much']\n",
    "stopwords += ['must', 'my', 'myself', 'name', 'namely', 'neither', 'never']\n",
    "stopwords += ['nevertheless', 'next', 'nine', 'no', 'nobody', 'none']\n",
    "stopwords += ['noone', 'nor', 'not', 'nothing', 'now', 'nowhere', 'of']\n",
    "stopwords += ['off', 'often', 'on','once', 'one', 'only', 'onto', 'or']\n",
    "stopwords += ['other', 'others', 'otherwise', 'our', 'ours', 'ourselves']\n",
    "stopwords += ['out', 'over', 'own', 'part', 'per', 'perhaps', 'please']\n",
    "stopwords += ['put', 'rather', 're', 's', 'same', 'see', 'seem', 'seemed']\n",
    "stopwords += ['seeming', 'seems', 'serious', 'several', 'she', 'should']\n",
    "stopwords += ['show', 'side', 'since', 'sincere', 'six', 'sixty', 'so']\n",
    "stopwords += ['some', 'somehow', 'someone', 'something', 'sometime']\n",
    "stopwords += ['sometimes', 'somewhere', 'still', 'such', 'system', 'take']\n",
    "stopwords += ['ten', 'than', 'that', 'the', 'their', 'them', 'themselves']\n",
    "stopwords += ['then', 'thence', 'there', 'thereafter', 'thereby']\n",
    "stopwords += ['therefore', 'therein', 'thereupon', 'these', 'they']\n",
    "stopwords += ['thick', 'thin', 'third', 'this', 'those', 'though', 'three']\n",
    "stopwords += ['three', 'through', 'throughout', 'thru', 'thus', 'to']\n",
    "stopwords += ['together', 'too', 'top', 'toward', 'towards', 'twelve']\n",
    "stopwords += ['twenty', 'two', 'un', 'under', 'until', 'up', 'upon']\n",
    "stopwords += ['us', 'very', 'via', 'was', 'we', 'well', 'were', 'what']\n",
    "stopwords += ['whatever', 'when', 'whence', 'whenever', 'where']\n",
    "stopwords += ['whereafter', 'whereas', 'whereby', 'wherein', 'whereupon']\n",
    "stopwords += ['wherever', 'whether', 'which', 'while', 'whither', 'who']\n",
    "stopwords += ['whoever', 'whole', 'whom', 'whose', 'why', 'will', 'with']\n",
    "stopwords += ['within', 'without', 'would', 'yet', 'you', 'your']\n",
    "stopwords += ['yours', 'yourself', 'yourselves']\n",
    "#stopwords = [x.upper() for x in stopwords]"
   ]
  },
  {
   "cell_type": "code",
   "execution_count": 5,
   "metadata": {
    "collapsed": true
   },
   "outputs": [],
   "source": [
    "def removeStopwords(wordlist, stopwords):\n",
    "    return [w for w in wordlist if w not in stopwords]\n",
    "def wordListToFreqDict(wordlist):\n",
    "    wordfreq = [wordlist.count(p) for p in wordlist]\n",
    "    return dict(zip(wordlist,wordfreq))\n",
    "def sortFreqDict(freqdict):\n",
    "    aux = [(key, freqdict[key]) for key in freqdict]\n",
    "    aux.sort()\n",
    "    return aux"
   ]
  },
  {
   "cell_type": "code",
   "execution_count": 6,
   "metadata": {},
   "outputs": [
    {
     "name": "stdout",
     "output_type": "stream",
     "text": [
      "NON-AVAILABLE COUNTRIES:\n",
      "Bahrain\n",
      "Kenya\n",
      "Lao_People’s_Democratic_Republic\n",
      "Lebanon\n",
      "Mongolia\n",
      "Nicaragua\n",
      "Palestine_(State_of)\n",
      "Qatar\n",
      "The_former_Yugoslav_Republic_of_Macedonia\n"
     ]
    }
   ],
   "source": [
    "df = pd.DataFrame(\"\", index=np.arange(0), columns=['word'])\n",
    "print(\"NON-AVAILABLE COUNTRIES:\")\n",
    "for country in countries:\n",
    "    with open('input/clean_data/{}.txt'.format(country), 'r') as myfile:\n",
    "        speech=myfile.read().replace('\\n', '')\n",
    "    speech = speech.lower()\n",
    "    speech = re.sub('[^a-z]', ' ', speech)\n",
    "    wordlist = speech.split()\n",
    "    wordlist = removeStopwords(wordlist=wordlist, stopwords = stopwords)\n",
    "    \n",
    "    table = sortFreqDict(wordListToFreqDict(wordlist=wordlist))\n",
    "    \n",
    "    if len(table) == 0:\n",
    "        print(country)\n",
    "        \n",
    "    else:\n",
    "        table = pd.DataFrame(np.array(table), columns = ['word', 'count'])\n",
    "        table['count'] = pd.to_numeric(table['count'])\n",
    "#        table['word_1'] = table['word'].apply(lambda x: lmtzr.lemmatize(x))\n",
    "#        table['word_2'] = table['word'].apply(lambda x: ps.stem(x))\n",
    "        table['word_3'] = table['word'].apply(lambda x: sno.stem(x))\n",
    "\n",
    "        grouped = pd.DataFrame({'freq' : table.groupby(['word_3'])['count'].agg('sum')}).reset_index()\n",
    "    \n",
    "        df = pd.merge(df, grouped, how = 'outer', left_on='word', right_on='word_3')\n",
    "        df['word'] = np.where(df['word'].isnull(), df['word_3'], df['word'])\n",
    "        df[country] = df['freq']\n",
    "        del df['word_3']\n",
    "        del df['freq']\n",
    "\n",
    "df = df.sort_values('word').reset_index(drop = True)"
   ]
  },
  {
   "cell_type": "code",
   "execution_count": 27,
   "metadata": {},
   "outputs": [
    {
     "data": {
      "text/html": [
       "<div>\n",
       "<style>\n",
       "    .dataframe thead tr:only-child th {\n",
       "        text-align: right;\n",
       "    }\n",
       "\n",
       "    .dataframe thead th {\n",
       "        text-align: left;\n",
       "    }\n",
       "\n",
       "    .dataframe tbody tr th {\n",
       "        vertical-align: top;\n",
       "    }\n",
       "</style>\n",
       "<table border=\"1\" class=\"dataframe\">\n",
       "  <thead>\n",
       "    <tr style=\"text-align: right;\">\n",
       "      <th></th>\n",
       "      <th>word</th>\n",
       "      <th>Afghanistan</th>\n",
       "      <th>Albania</th>\n",
       "      <th>Angola</th>\n",
       "      <th>Antigua_and_Barbuda</th>\n",
       "      <th>Armenia</th>\n",
       "      <th>Australia</th>\n",
       "      <th>Austria</th>\n",
       "      <th>Azerbaijan</th>\n",
       "      <th>Bahamas</th>\n",
       "      <th>...</th>\n",
       "      <th>Uganda</th>\n",
       "      <th>Ukraine</th>\n",
       "      <th>United_Arab_Emirates</th>\n",
       "      <th>United_Kingdom_of_Great_Britain_and_Northern_Ireland</th>\n",
       "      <th>United_Republic_of_Tanzania</th>\n",
       "      <th>United_States_of_America</th>\n",
       "      <th>Uzbekistan</th>\n",
       "      <th>Viet_Nam</th>\n",
       "      <th>Zambia</th>\n",
       "      <th>Zimbabwe</th>\n",
       "    </tr>\n",
       "  </thead>\n",
       "  <tbody>\n",
       "    <tr>\n",
       "      <th>count</th>\n",
       "      <td>10067</td>\n",
       "      <td>577.000000</td>\n",
       "      <td>566.000000</td>\n",
       "      <td>503.000000</td>\n",
       "      <td>601.000000</td>\n",
       "      <td>498.000000</td>\n",
       "      <td>446.000000</td>\n",
       "      <td>394.000000</td>\n",
       "      <td>483.000000</td>\n",
       "      <td>674.000000</td>\n",
       "      <td>...</td>\n",
       "      <td>249.000000</td>\n",
       "      <td>680.000000</td>\n",
       "      <td>553.000000</td>\n",
       "      <td>650.000000</td>\n",
       "      <td>669.000000</td>\n",
       "      <td>926.000000</td>\n",
       "      <td>537.000000</td>\n",
       "      <td>443.000000</td>\n",
       "      <td>537.000000</td>\n",
       "      <td>404.000000</td>\n",
       "    </tr>\n",
       "    <tr>\n",
       "      <th>unique</th>\n",
       "      <td>10067</td>\n",
       "      <td>NaN</td>\n",
       "      <td>NaN</td>\n",
       "      <td>NaN</td>\n",
       "      <td>NaN</td>\n",
       "      <td>NaN</td>\n",
       "      <td>NaN</td>\n",
       "      <td>NaN</td>\n",
       "      <td>NaN</td>\n",
       "      <td>NaN</td>\n",
       "      <td>...</td>\n",
       "      <td>NaN</td>\n",
       "      <td>NaN</td>\n",
       "      <td>NaN</td>\n",
       "      <td>NaN</td>\n",
       "      <td>NaN</td>\n",
       "      <td>NaN</td>\n",
       "      <td>NaN</td>\n",
       "      <td>NaN</td>\n",
       "      <td>NaN</td>\n",
       "      <td>NaN</td>\n",
       "    </tr>\n",
       "    <tr>\n",
       "      <th>top</th>\n",
       "      <td>jewish</td>\n",
       "      <td>NaN</td>\n",
       "      <td>NaN</td>\n",
       "      <td>NaN</td>\n",
       "      <td>NaN</td>\n",
       "      <td>NaN</td>\n",
       "      <td>NaN</td>\n",
       "      <td>NaN</td>\n",
       "      <td>NaN</td>\n",
       "      <td>NaN</td>\n",
       "      <td>...</td>\n",
       "      <td>NaN</td>\n",
       "      <td>NaN</td>\n",
       "      <td>NaN</td>\n",
       "      <td>NaN</td>\n",
       "      <td>NaN</td>\n",
       "      <td>NaN</td>\n",
       "      <td>NaN</td>\n",
       "      <td>NaN</td>\n",
       "      <td>NaN</td>\n",
       "      <td>NaN</td>\n",
       "    </tr>\n",
       "    <tr>\n",
       "      <th>freq</th>\n",
       "      <td>1</td>\n",
       "      <td>NaN</td>\n",
       "      <td>NaN</td>\n",
       "      <td>NaN</td>\n",
       "      <td>NaN</td>\n",
       "      <td>NaN</td>\n",
       "      <td>NaN</td>\n",
       "      <td>NaN</td>\n",
       "      <td>NaN</td>\n",
       "      <td>NaN</td>\n",
       "      <td>...</td>\n",
       "      <td>NaN</td>\n",
       "      <td>NaN</td>\n",
       "      <td>NaN</td>\n",
       "      <td>NaN</td>\n",
       "      <td>NaN</td>\n",
       "      <td>NaN</td>\n",
       "      <td>NaN</td>\n",
       "      <td>NaN</td>\n",
       "      <td>NaN</td>\n",
       "      <td>NaN</td>\n",
       "    </tr>\n",
       "    <tr>\n",
       "      <th>mean</th>\n",
       "      <td>NaN</td>\n",
       "      <td>1.646447</td>\n",
       "      <td>1.787986</td>\n",
       "      <td>1.960239</td>\n",
       "      <td>1.853577</td>\n",
       "      <td>1.730924</td>\n",
       "      <td>1.863229</td>\n",
       "      <td>1.703046</td>\n",
       "      <td>2.082816</td>\n",
       "      <td>1.937685</td>\n",
       "      <td>...</td>\n",
       "      <td>1.469880</td>\n",
       "      <td>1.963235</td>\n",
       "      <td>2.193490</td>\n",
       "      <td>2.149231</td>\n",
       "      <td>1.704036</td>\n",
       "      <td>2.379050</td>\n",
       "      <td>1.940410</td>\n",
       "      <td>1.823928</td>\n",
       "      <td>1.864060</td>\n",
       "      <td>1.603960</td>\n",
       "    </tr>\n",
       "    <tr>\n",
       "      <th>std</th>\n",
       "      <td>NaN</td>\n",
       "      <td>1.563403</td>\n",
       "      <td>1.590101</td>\n",
       "      <td>2.374837</td>\n",
       "      <td>2.119400</td>\n",
       "      <td>1.835237</td>\n",
       "      <td>2.125636</td>\n",
       "      <td>1.416242</td>\n",
       "      <td>3.146060</td>\n",
       "      <td>2.436529</td>\n",
       "      <td>...</td>\n",
       "      <td>1.066393</td>\n",
       "      <td>2.549678</td>\n",
       "      <td>2.911838</td>\n",
       "      <td>2.393663</td>\n",
       "      <td>2.044197</td>\n",
       "      <td>3.980758</td>\n",
       "      <td>1.928814</td>\n",
       "      <td>1.985391</td>\n",
       "      <td>2.106793</td>\n",
       "      <td>1.748898</td>\n",
       "    </tr>\n",
       "    <tr>\n",
       "      <th>min</th>\n",
       "      <td>NaN</td>\n",
       "      <td>1.000000</td>\n",
       "      <td>1.000000</td>\n",
       "      <td>1.000000</td>\n",
       "      <td>1.000000</td>\n",
       "      <td>1.000000</td>\n",
       "      <td>1.000000</td>\n",
       "      <td>1.000000</td>\n",
       "      <td>1.000000</td>\n",
       "      <td>1.000000</td>\n",
       "      <td>...</td>\n",
       "      <td>1.000000</td>\n",
       "      <td>1.000000</td>\n",
       "      <td>1.000000</td>\n",
       "      <td>1.000000</td>\n",
       "      <td>1.000000</td>\n",
       "      <td>1.000000</td>\n",
       "      <td>1.000000</td>\n",
       "      <td>1.000000</td>\n",
       "      <td>1.000000</td>\n",
       "      <td>1.000000</td>\n",
       "    </tr>\n",
       "    <tr>\n",
       "      <th>25%</th>\n",
       "      <td>NaN</td>\n",
       "      <td>1.000000</td>\n",
       "      <td>1.000000</td>\n",
       "      <td>1.000000</td>\n",
       "      <td>1.000000</td>\n",
       "      <td>1.000000</td>\n",
       "      <td>1.000000</td>\n",
       "      <td>1.000000</td>\n",
       "      <td>1.000000</td>\n",
       "      <td>1.000000</td>\n",
       "      <td>...</td>\n",
       "      <td>1.000000</td>\n",
       "      <td>1.000000</td>\n",
       "      <td>1.000000</td>\n",
       "      <td>1.000000</td>\n",
       "      <td>1.000000</td>\n",
       "      <td>1.000000</td>\n",
       "      <td>1.000000</td>\n",
       "      <td>1.000000</td>\n",
       "      <td>1.000000</td>\n",
       "      <td>1.000000</td>\n",
       "    </tr>\n",
       "    <tr>\n",
       "      <th>50%</th>\n",
       "      <td>NaN</td>\n",
       "      <td>1.000000</td>\n",
       "      <td>1.000000</td>\n",
       "      <td>1.000000</td>\n",
       "      <td>1.000000</td>\n",
       "      <td>1.000000</td>\n",
       "      <td>1.000000</td>\n",
       "      <td>1.000000</td>\n",
       "      <td>1.000000</td>\n",
       "      <td>1.000000</td>\n",
       "      <td>...</td>\n",
       "      <td>1.000000</td>\n",
       "      <td>1.000000</td>\n",
       "      <td>1.000000</td>\n",
       "      <td>1.000000</td>\n",
       "      <td>1.000000</td>\n",
       "      <td>1.000000</td>\n",
       "      <td>1.000000</td>\n",
       "      <td>1.000000</td>\n",
       "      <td>1.000000</td>\n",
       "      <td>1.000000</td>\n",
       "    </tr>\n",
       "    <tr>\n",
       "      <th>75%</th>\n",
       "      <td>NaN</td>\n",
       "      <td>2.000000</td>\n",
       "      <td>2.000000</td>\n",
       "      <td>2.000000</td>\n",
       "      <td>2.000000</td>\n",
       "      <td>2.000000</td>\n",
       "      <td>2.000000</td>\n",
       "      <td>2.000000</td>\n",
       "      <td>2.000000</td>\n",
       "      <td>2.000000</td>\n",
       "      <td>...</td>\n",
       "      <td>1.000000</td>\n",
       "      <td>2.000000</td>\n",
       "      <td>2.000000</td>\n",
       "      <td>2.000000</td>\n",
       "      <td>2.000000</td>\n",
       "      <td>2.000000</td>\n",
       "      <td>2.000000</td>\n",
       "      <td>2.000000</td>\n",
       "      <td>2.000000</td>\n",
       "      <td>1.250000</td>\n",
       "    </tr>\n",
       "    <tr>\n",
       "      <th>max</th>\n",
       "      <td>NaN</td>\n",
       "      <td>11.000000</td>\n",
       "      <td>11.000000</td>\n",
       "      <td>24.000000</td>\n",
       "      <td>19.000000</td>\n",
       "      <td>18.000000</td>\n",
       "      <td>21.000000</td>\n",
       "      <td>13.000000</td>\n",
       "      <td>51.000000</td>\n",
       "      <td>31.000000</td>\n",
       "      <td>...</td>\n",
       "      <td>7.000000</td>\n",
       "      <td>36.000000</td>\n",
       "      <td>29.000000</td>\n",
       "      <td>22.000000</td>\n",
       "      <td>24.000000</td>\n",
       "      <td>68.000000</td>\n",
       "      <td>15.000000</td>\n",
       "      <td>16.000000</td>\n",
       "      <td>19.000000</td>\n",
       "      <td>18.000000</td>\n",
       "    </tr>\n",
       "  </tbody>\n",
       "</table>\n",
       "<p>11 rows × 139 columns</p>\n",
       "</div>"
      ],
      "text/plain": [
       "          word  Afghanistan     Albania      Angola  Antigua_and_Barbuda  \\\n",
       "count    10067   577.000000  566.000000  503.000000           601.000000   \n",
       "unique   10067          NaN         NaN         NaN                  NaN   \n",
       "top     jewish          NaN         NaN         NaN                  NaN   \n",
       "freq         1          NaN         NaN         NaN                  NaN   \n",
       "mean       NaN     1.646447    1.787986    1.960239             1.853577   \n",
       "std        NaN     1.563403    1.590101    2.374837             2.119400   \n",
       "min        NaN     1.000000    1.000000    1.000000             1.000000   \n",
       "25%        NaN     1.000000    1.000000    1.000000             1.000000   \n",
       "50%        NaN     1.000000    1.000000    1.000000             1.000000   \n",
       "75%        NaN     2.000000    2.000000    2.000000             2.000000   \n",
       "max        NaN    11.000000   11.000000   24.000000            19.000000   \n",
       "\n",
       "           Armenia   Australia     Austria  Azerbaijan     Bahamas  \\\n",
       "count   498.000000  446.000000  394.000000  483.000000  674.000000   \n",
       "unique         NaN         NaN         NaN         NaN         NaN   \n",
       "top            NaN         NaN         NaN         NaN         NaN   \n",
       "freq           NaN         NaN         NaN         NaN         NaN   \n",
       "mean      1.730924    1.863229    1.703046    2.082816    1.937685   \n",
       "std       1.835237    2.125636    1.416242    3.146060    2.436529   \n",
       "min       1.000000    1.000000    1.000000    1.000000    1.000000   \n",
       "25%       1.000000    1.000000    1.000000    1.000000    1.000000   \n",
       "50%       1.000000    1.000000    1.000000    1.000000    1.000000   \n",
       "75%       2.000000    2.000000    2.000000    2.000000    2.000000   \n",
       "max      18.000000   21.000000   13.000000   51.000000   31.000000   \n",
       "\n",
       "           ...          Uganda     Ukraine  United_Arab_Emirates  \\\n",
       "count      ...      249.000000  680.000000            553.000000   \n",
       "unique     ...             NaN         NaN                   NaN   \n",
       "top        ...             NaN         NaN                   NaN   \n",
       "freq       ...             NaN         NaN                   NaN   \n",
       "mean       ...        1.469880    1.963235              2.193490   \n",
       "std        ...        1.066393    2.549678              2.911838   \n",
       "min        ...        1.000000    1.000000              1.000000   \n",
       "25%        ...        1.000000    1.000000              1.000000   \n",
       "50%        ...        1.000000    1.000000              1.000000   \n",
       "75%        ...        1.000000    2.000000              2.000000   \n",
       "max        ...        7.000000   36.000000             29.000000   \n",
       "\n",
       "        United_Kingdom_of_Great_Britain_and_Northern_Ireland  \\\n",
       "count                                          650.000000      \n",
       "unique                                                NaN      \n",
       "top                                                   NaN      \n",
       "freq                                                  NaN      \n",
       "mean                                             2.149231      \n",
       "std                                              2.393663      \n",
       "min                                              1.000000      \n",
       "25%                                              1.000000      \n",
       "50%                                              1.000000      \n",
       "75%                                              2.000000      \n",
       "max                                             22.000000      \n",
       "\n",
       "        United_Republic_of_Tanzania  United_States_of_America  Uzbekistan  \\\n",
       "count                    669.000000                926.000000  537.000000   \n",
       "unique                          NaN                       NaN         NaN   \n",
       "top                             NaN                       NaN         NaN   \n",
       "freq                            NaN                       NaN         NaN   \n",
       "mean                       1.704036                  2.379050    1.940410   \n",
       "std                        2.044197                  3.980758    1.928814   \n",
       "min                        1.000000                  1.000000    1.000000   \n",
       "25%                        1.000000                  1.000000    1.000000   \n",
       "50%                        1.000000                  1.000000    1.000000   \n",
       "75%                        2.000000                  2.000000    2.000000   \n",
       "max                       24.000000                 68.000000   15.000000   \n",
       "\n",
       "          Viet_Nam      Zambia    Zimbabwe  \n",
       "count   443.000000  537.000000  404.000000  \n",
       "unique         NaN         NaN         NaN  \n",
       "top            NaN         NaN         NaN  \n",
       "freq           NaN         NaN         NaN  \n",
       "mean      1.823928    1.864060    1.603960  \n",
       "std       1.985391    2.106793    1.748898  \n",
       "min       1.000000    1.000000    1.000000  \n",
       "25%       1.000000    1.000000    1.000000  \n",
       "50%       1.000000    1.000000    1.000000  \n",
       "75%       2.000000    2.000000    1.250000  \n",
       "max      16.000000   19.000000   18.000000  \n",
       "\n",
       "[11 rows x 139 columns]"
      ]
     },
     "execution_count": 27,
     "metadata": {},
     "output_type": "execute_result"
    }
   ],
   "source": [
    "df.describe(include = 'all')"
   ]
  },
  {
   "cell_type": "markdown",
   "metadata": {},
   "source": [
    "## Example of USA and France:"
   ]
  },
  {
   "cell_type": "code",
   "execution_count": 8,
   "metadata": {},
   "outputs": [],
   "source": [
    "usa_france = df[['word', 'United_States_of_America', 'France']]\n",
    "usa_france = usa_france[(usa_france['United_States_of_America'].isnull() == False) \n",
    "                        |(usa_france['France'].isnull() == False) \n",
    "                       ].reset_index(drop = True)"
   ]
  },
  {
   "cell_type": "code",
   "execution_count": 9,
   "metadata": {
    "scrolled": true
   },
   "outputs": [
    {
     "data": {
      "image/png": "[encoded data removed]",
      "text/plain": [
       "<matplotlib.figure.Figure at 0x1a1ce25d68>"
      ]
     },
     "metadata": {},
     "output_type": "display_data"
    }
   ],
   "source": [
    "y=usa_france['United_States_of_America']\n",
    "z=usa_france['France']\n",
    "n=usa_france['word']\n",
    "\n",
    "fig, ax = plt.subplots()\n",
    "ax.scatter(z, y)\n",
    "\n",
    "for i, txt in enumerate(n):\n",
    "    ax.annotate(txt, (z[i],y[i]))"
   ]
  },
  {
   "cell_type": "markdown",
   "metadata": {},
   "source": [
    "## PCA on word count:"
   ]
  },
  {
   "cell_type": "code",
   "execution_count": 10,
   "metadata": {},
   "outputs": [
    {
     "name": "stdout",
     "output_type": "stream",
     "text": [
      "(10067, 139)\n"
     ]
    }
   ],
   "source": [
    "df1 = df.copy()\n",
    "print(df1.shape)"
   ]
  },
  {
   "cell_type": "code",
   "execution_count": 11,
   "metadata": {
    "collapsed": true
   },
   "outputs": [],
   "source": [
    "columns = list(df1)\n",
    "country_columns = columns[1:]\n",
    "for country in country_columns:\n",
    "    df1[country] = df1[country].fillna(0)"
   ]
  },
  {
   "cell_type": "markdown",
   "metadata": {},
   "source": [
    "___ Limit data to words refered to by at least X countries:___"
   ]
  },
  {
   "cell_type": "code",
   "execution_count": 12,
   "metadata": {},
   "outputs": [
    {
     "name": "stdout",
     "output_type": "stream",
     "text": [
      "(2596, 139)\n"
     ]
    }
   ],
   "source": [
    "df1['occurrence'] = df1.astype(bool).sum(axis=1)\n",
    "df1 = df1[df1['occurrence']>5]\n",
    "del df1['occurrence']\n",
    "print(df1.shape)"
   ]
  },
  {
   "cell_type": "markdown",
   "metadata": {},
   "source": [
    "___ PCA analysis:___"
   ]
  },
  {
   "cell_type": "code",
   "execution_count": 13,
   "metadata": {},
   "outputs": [],
   "source": [
    "df2 = df1.transpose().copy()\n",
    "df2.columns = df2.iloc[0].values.tolist()\n",
    "df2 = df2.iloc[1:]\n",
    "df2 = df2.reset_index()"
   ]
  },
  {
   "cell_type": "code",
   "execution_count": 14,
   "metadata": {},
   "outputs": [],
   "source": [
    "X = df2.iloc[:,1:].values\n",
    "y_ = df2.iloc[:, 0].values"
   ]
  },
  {
   "cell_type": "code",
   "execution_count": 16,
   "metadata": {},
   "outputs": [
    {
     "name": "stderr",
     "output_type": "stream",
     "text": [
      "/Users/nj995/anaconda3/lib/python3.6/site-packages/sklearn/utils/validation.py:444: DataConversionWarning: Data with input dtype object was converted to float64 by StandardScaler.\n",
      "  warnings.warn(msg, DataConversionWarning)\n"
     ]
    }
   ],
   "source": [
    "X_std = StandardScaler().fit_transform(X)"
   ]
  },
  {
   "cell_type": "code",
   "execution_count": 17,
   "metadata": {},
   "outputs": [],
   "source": [
    "sklearn_pca = sklearnPCA(n_components=2)\n",
    "Y_sklearn = sklearn_pca.fit_transform(X_std)"
   ]
  },
  {
   "cell_type": "markdown",
   "metadata": {},
   "source": [
    "___Plot 2 axes:___"
   ]
  },
  {
   "cell_type": "code",
   "execution_count": 18,
   "metadata": {},
   "outputs": [
    {
     "data": {
      "image/png": "[encoded data removed]",
      "text/plain": [
       "<matplotlib.figure.Figure at 0x1147e7cf8>"
      ]
     },
     "metadata": {},
     "output_type": "display_data"
    }
   ],
   "source": [
    "y=Y_sklearn[:,0]\n",
    "z=Y_sklearn[:,1]\n",
    "n=y_\n",
    "\n",
    "fig, ax = plt.subplots()\n",
    "ax.scatter(z, y)\n",
    "\n",
    "for i, txt in enumerate(n):\n",
    "    ax.annotate(txt, (z[i],y[i]))"
   ]
  },
  {
   "cell_type": "code",
   "execution_count": null,
   "metadata": {
    "collapsed": true
   },
   "outputs": [],
   "source": []
  }
 ],
 "metadata": {
  "kernelspec": {
   "display_name": "Python 3",
   "language": "python",
   "name": "python3"
  },
  "language_info": {
   "codemirror_mode": {
    "name": "ipython",
    "version": 3
   },
   "file_extension": ".py",
   "mimetype": "text/x-python",
   "name": "python",
   "nbconvert_exporter": "python",
   "pygments_lexer": "ipython3",
   "version": "3.6.2"
  }
 },
 "nbformat": 4,
 "nbformat_minor": 2
}
